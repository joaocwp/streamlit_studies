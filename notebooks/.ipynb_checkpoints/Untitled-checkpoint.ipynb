{
 "cells": [
  {
   "cell_type": "code",
   "execution_count": 30,
   "id": "14d259e4-e442-488b-8c47-18ad7f1ce7ea",
   "metadata": {
    "execution": {
     "iopub.execute_input": "2024-07-07T17:17:04.370999Z",
     "iopub.status.busy": "2024-07-07T17:17:04.370113Z",
     "iopub.status.idle": "2024-07-07T17:17:04.379871Z",
     "shell.execute_reply": "2024-07-07T17:17:04.377574Z",
     "shell.execute_reply.started": "2024-07-07T17:17:04.370925Z"
    }
   },
   "outputs": [],
   "source": [
    "class Teste:\n",
    "    def __init__(self):\n",
    "        print(\"Teste\")\n",
    "        self.a = 1\n",
    "        self.b = 2\n",
    "        self.c = 3\n",
    "\n",
    "class Teste2:\n",
    "    def __init__(self):\n",
    "        print(\"Teste2\")\n",
    "        self.a2 = 12\n",
    "        self.b2 = 22\n",
    "        self.c2 = 32"
   ]
  },
  {
   "cell_type": "code",
   "execution_count": 17,
   "id": "02991638-f3fc-48c2-a746-4971867a92ce",
   "metadata": {
    "execution": {
     "iopub.execute_input": "2024-07-07T17:15:04.598275Z",
     "iopub.status.busy": "2024-07-07T17:15:04.597374Z",
     "iopub.status.idle": "2024-07-07T17:15:04.605798Z",
     "shell.execute_reply": "2024-07-07T17:15:04.604523Z",
     "shell.execute_reply.started": "2024-07-07T17:15:04.598228Z"
    }
   },
   "outputs": [
    {
     "name": "stdout",
     "output_type": "stream",
     "text": [
      "Teste\n"
     ]
    }
   ],
   "source": [
    "tst = Teste()\n",
    "tst.d = 4"
   ]
  },
  {
   "cell_type": "code",
   "execution_count": 18,
   "id": "74cea1df-226c-45a0-a5d7-15954906404a",
   "metadata": {
    "execution": {
     "iopub.execute_input": "2024-07-07T17:15:05.127106Z",
     "iopub.status.busy": "2024-07-07T17:15:05.126251Z",
     "iopub.status.idle": "2024-07-07T17:15:05.132900Z",
     "shell.execute_reply": "2024-07-07T17:15:05.131133Z",
     "shell.execute_reply.started": "2024-07-07T17:15:05.127077Z"
    }
   },
   "outputs": [
    {
     "data": {
      "text/plain": [
       "4"
      ]
     },
     "execution_count": 18,
     "metadata": {},
     "output_type": "execute_result"
    }
   ],
   "source": [
    "tst.d"
   ]
  },
  {
   "cell_type": "code",
   "execution_count": 49,
   "id": "458c7df8-30ec-4f25-9bd6-c76f0fc6b53e",
   "metadata": {
    "execution": {
     "iopub.execute_input": "2024-07-07T17:18:41.142564Z",
     "iopub.status.busy": "2024-07-07T17:18:41.141723Z",
     "iopub.status.idle": "2024-07-07T17:18:41.150844Z",
     "shell.execute_reply": "2024-07-07T17:18:41.149321Z",
     "shell.execute_reply.started": "2024-07-07T17:18:41.142495Z"
    }
   },
   "outputs": [],
   "source": [
    "class Herdeira(Teste, Teste2):\n",
    "    def __init__(self):\n",
    "        # Teste.__init__(self)\n",
    "        Teste2.__init__(self)\n",
    "        print(\"Herdeira\")\n",
    "        self.h = 0"
   ]
  },
  {
   "cell_type": "code",
   "execution_count": 50,
   "id": "f12a709d-874d-46f5-9278-17be16c05d97",
   "metadata": {
    "execution": {
     "iopub.execute_input": "2024-07-07T17:18:41.829773Z",
     "iopub.status.busy": "2024-07-07T17:18:41.829048Z",
     "iopub.status.idle": "2024-07-07T17:18:41.837161Z",
     "shell.execute_reply": "2024-07-07T17:18:41.835705Z",
     "shell.execute_reply.started": "2024-07-07T17:18:41.829706Z"
    }
   },
   "outputs": [
    {
     "name": "stdout",
     "output_type": "stream",
     "text": [
      "Teste2\n",
      "Herdeira\n"
     ]
    }
   ],
   "source": [
    "hrd = Herdeira()"
   ]
  },
  {
   "cell_type": "code",
   "execution_count": 80,
   "id": "ef307fe0-d56d-495f-bd2c-a879bd62b2bc",
   "metadata": {
    "execution": {
     "iopub.execute_input": "2024-07-07T17:23:35.932107Z",
     "iopub.status.busy": "2024-07-07T17:23:35.931552Z",
     "iopub.status.idle": "2024-07-07T17:23:35.940932Z",
     "shell.execute_reply": "2024-07-07T17:23:35.939198Z",
     "shell.execute_reply.started": "2024-07-07T17:23:35.932064Z"
    }
   },
   "outputs": [],
   "source": [
    "def decorator(func):\n",
    "    def wrapper(txt):\n",
    "        print('antes')\n",
    "        func(txt)\n",
    "        print('apos')\n",
    "    return wrapper"
   ]
  },
  {
   "cell_type": "code",
   "execution_count": 81,
   "id": "e99768e1-8ff5-4d9a-b341-ba67fa32707c",
   "metadata": {
    "execution": {
     "iopub.execute_input": "2024-07-07T17:23:36.048603Z",
     "iopub.status.busy": "2024-07-07T17:23:36.048069Z",
     "iopub.status.idle": "2024-07-07T17:23:36.056433Z",
     "shell.execute_reply": "2024-07-07T17:23:36.055107Z",
     "shell.execute_reply.started": "2024-07-07T17:23:36.048559Z"
    }
   },
   "outputs": [
    {
     "name": "stdout",
     "output_type": "stream",
     "text": [
      "antes\n",
      "Executando: oi\n",
      "apos\n"
     ]
    }
   ],
   "source": [
    "@decorator\n",
    "def teste(txt):\n",
    "    print(\"Executando:\", txt)\n",
    "\n",
    "teste('oi')"
   ]
  },
  {
   "cell_type": "code",
   "execution_count": null,
   "id": "4ee3ff5c-842c-4012-a3ef-3769eb15c687",
   "metadata": {},
   "outputs": [],
   "source": []
  }
 ],
 "metadata": {
  "kernelspec": {
   "display_name": "Python 3 (ipykernel)",
   "language": "python",
   "name": "python3"
  },
  "language_info": {
   "codemirror_mode": {
    "name": "ipython",
    "version": 3
   },
   "file_extension": ".py",
   "mimetype": "text/x-python",
   "name": "python",
   "nbconvert_exporter": "python",
   "pygments_lexer": "ipython3",
   "version": "3.10.12"
  },
  "widgets": {
   "application/vnd.jupyter.widget-state+json": {
    "state": {},
    "version_major": 2,
    "version_minor": 0
   }
  }
 },
 "nbformat": 4,
 "nbformat_minor": 5
}
