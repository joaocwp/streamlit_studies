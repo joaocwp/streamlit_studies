{
 "cells": [
  {
   "cell_type": "code",
   "execution_count": 1,
   "id": "ec9924b9-9861-405a-8f31-b6ef4a6d18a2",
   "metadata": {
    "execution": {
     "iopub.execute_input": "2024-09-15T21:05:46.223507Z",
     "iopub.status.busy": "2024-09-15T21:05:46.223176Z",
     "iopub.status.idle": "2024-09-15T21:05:47.853147Z",
     "shell.execute_reply": "2024-09-15T21:05:47.851559Z",
     "shell.execute_reply.started": "2024-09-15T21:05:46.223480Z"
    }
   },
   "outputs": [],
   "source": [
    "import duckdb as ddb\n",
    "import pandas as pd\n",
    "import numpy as np\n",
    "from datetime import datetime\n",
    "from dateutil.relativedelta import relativedelta"
   ]
  },
  {
   "cell_type": "code",
   "execution_count": 2,
   "id": "c8b2c278-08c1-4a7f-b77f-8286ac4979f7",
   "metadata": {
    "execution": {
     "iopub.execute_input": "2024-09-15T21:05:47.857487Z",
     "iopub.status.busy": "2024-09-15T21:05:47.856594Z",
     "iopub.status.idle": "2024-09-15T21:05:47.950457Z",
     "shell.execute_reply": "2024-09-15T21:05:47.949559Z",
     "shell.execute_reply.started": "2024-09-15T21:05:47.857420Z"
    }
   },
   "outputs": [
    {
     "name": "stdout",
     "output_type": "stream",
     "text": [
      "CREATE TABLE IF NOT EXISTS users (id INTEGER, name VARCHAR, age INTEGER);\n",
      "Table 'users' created.\n",
      "Data (1, 'Alice', 25) inserted into table 'users'.\n",
      "Data (2, 'Bob', 30) inserted into table 'users'.\n",
      "Initial data in 'users' table:\n",
      "(1, 'Alice', 30)\n",
      "(1, 'Alice', 30)\n",
      "(1, 'Alice', 30)\n",
      "(1, 'Alice', 30)\n",
      "(1, 'Bob', 25)\n",
      "(1, 'Alice', 25)\n",
      "(2, 'Bob', 30)\n",
      "Updated age to 26 where name = Alice.\n",
      "Data in 'users' table after update:\n",
      "(1, 'Alice', 26)\n",
      "(1, 'Alice', 26)\n",
      "(1, 'Alice', 26)\n",
      "(1, 'Alice', 26)\n",
      "(1, 'Bob', 25)\n",
      "(1, 'Alice', 26)\n",
      "(2, 'Bob', 30)\n",
      "Deleted rows where name = Bob from 'users'.\n",
      "Data in 'users' table after deletion:\n",
      "(1, 'Alice', 26)\n",
      "(1, 'Alice', 26)\n",
      "(1, 'Alice', 26)\n",
      "(1, 'Alice', 26)\n",
      "(1, 'Alice', 26)\n"
     ]
    }
   ],
   "source": [
    "import duckdb\n",
    "\n",
    "# Connect to (or create) a DuckDB database file\n",
    "# You can use ':memory:' for an in-memory database or a specific file path\n",
    "conn = duckdb.connect('my_database.duckdb')\n",
    "\n",
    "# Function to create a table\n",
    "def create_table(conn, table_name, schema):\n",
    "    create_query = f\"CREATE TABLE IF NOT EXISTS {table_name} ({schema});\"\n",
    "    print(create_query)\n",
    "    conn.execute(create_query)\n",
    "    print(f\"Table '{table_name}' created.\")\n",
    "\n",
    "# Function to insert data into a table\n",
    "def insert_data(conn, table_name, values):\n",
    "    # Assuming that values is a tuple that matches the table schema\n",
    "    placeholders = ', '.join(['?' for _ in values])\n",
    "    insert_query = f\"INSERT INTO {table_name} VALUES ({placeholders});\"\n",
    "    conn.execute(insert_query, values)\n",
    "    print(f\"Data {values} inserted into table '{table_name}'.\")\n",
    "\n",
    "# Function to read data from a table\n",
    "def read_data(conn, table_name):\n",
    "    query = f\"SELECT * FROM {table_name};\"\n",
    "    result = conn.execute(query).fetchall()\n",
    "    for row in result:\n",
    "        print(row)\n",
    "    return result\n",
    "\n",
    "# Function to update data in a table\n",
    "def update_data(conn, table_name, set_column, set_value, condition_column, condition_value):\n",
    "    update_query = f\"UPDATE {table_name} SET {set_column} = ? WHERE {condition_column} = ?;\"\n",
    "    conn.execute(update_query, (set_value, condition_value))\n",
    "    print(f\"Updated {set_column} to {set_value} where {condition_column} = {condition_value}.\")\n",
    "\n",
    "# Function to delete data from a table\n",
    "def delete_data(conn, table_name, condition_column, condition_value=None):\n",
    "    if condition_value is not None:\n",
    "        delete_query = f\"DELETE FROM {table_name} WHERE {condition_column} = ?;\"\n",
    "        conn.execute(delete_query, (condition_value,))\n",
    "        print(f\"Deleted rows where {condition_column} = {condition_value} from '{table_name}'.\")\n",
    "\n",
    "# Function to drop (delete) a table\n",
    "def drop_table(conn, table_name):\n",
    "    drop_query = f\"DROP TABLE IF EXISTS {table_name};\"\n",
    "    conn.execute(drop_query)\n",
    "    print(f\"Table '{table_name}' dropped.\")\n",
    "\n",
    "# Example usage\n",
    "if __name__ == '__main__':\n",
    "    # Create a new table\n",
    "    create_table(conn, 'users', 'id INTEGER, name VARCHAR, age INTEGER')\n",
    "\n",
    "    # Insert data into the table\n",
    "    insert_data(conn, 'users', (1, 'Alice', 25))\n",
    "    insert_data(conn, 'users', (2, 'Bob', 30))\n",
    "\n",
    "    # Read data from the table\n",
    "    print(\"Initial data in 'users' table:\")\n",
    "    read_data(conn, 'users')\n",
    "\n",
    "    # Update data in the table\n",
    "    update_data(conn, 'users', 'age', 26, 'name', 'Alice')\n",
    "\n",
    "    # Read data after the update\n",
    "    print(\"Data in 'users' table after update:\")\n",
    "    read_data(conn, 'users')\n",
    "\n",
    "    # Delete a record from the table\n",
    "    delete_data(conn, 'users', 'name', 'Bob')\n",
    "\n",
    "    # Read data after the deletion\n",
    "    print(\"Data in 'users' table after deletion:\")\n",
    "    read_data(conn, 'users')\n",
    "\n",
    "    # Drop the table\n",
    "    # drop_table('conn, users')\n",
    "    \n",
    "    # Close the connection\n",
    "    conn.close()\n"
   ]
  },
  {
   "cell_type": "code",
   "execution_count": 3,
   "id": "1ab96ca7-5b7c-4d1a-a7b7-3620faf5a7ad",
   "metadata": {
    "execution": {
     "iopub.execute_input": "2024-09-15T21:05:47.952436Z",
     "iopub.status.busy": "2024-09-15T21:05:47.951894Z",
     "iopub.status.idle": "2024-09-15T21:05:47.964565Z",
     "shell.execute_reply": "2024-09-15T21:05:47.963641Z",
     "shell.execute_reply.started": "2024-09-15T21:05:47.952391Z"
    }
   },
   "outputs": [],
   "source": [
    "conn = duckdb.connect('my_database.duckdb')"
   ]
  },
  {
   "cell_type": "code",
   "execution_count": 4,
   "id": "65e0677f-ded4-4455-aa75-63cda9de1b1f",
   "metadata": {
    "execution": {
     "iopub.execute_input": "2024-09-15T21:05:47.975821Z",
     "iopub.status.busy": "2024-09-15T21:05:47.975248Z",
     "iopub.status.idle": "2024-09-15T21:05:47.988201Z",
     "shell.execute_reply": "2024-09-15T21:05:47.986721Z",
     "shell.execute_reply.started": "2024-09-15T21:05:47.975773Z"
    }
   },
   "outputs": [
    {
     "name": "stdout",
     "output_type": "stream",
     "text": [
      "Data (1, 'Bob', 25) inserted into table 'users'.\n"
     ]
    }
   ],
   "source": [
    "insert_data(conn, 'users', (1, 'Bob', 25))"
   ]
  },
  {
   "cell_type": "code",
   "execution_count": 5,
   "id": "032aab64-f01f-4d74-92d6-cfb54a4e6647",
   "metadata": {
    "execution": {
     "iopub.execute_input": "2024-09-15T21:05:47.990476Z",
     "iopub.status.busy": "2024-09-15T21:05:47.989968Z",
     "iopub.status.idle": "2024-09-15T21:05:48.023447Z",
     "shell.execute_reply": "2024-09-15T21:05:48.022221Z",
     "shell.execute_reply.started": "2024-09-15T21:05:47.990433Z"
    }
   },
   "outputs": [
    {
     "data": {
      "text/plain": [
       "┌───────┬─────────┬───────┐\n",
       "│  id   │  name   │  age  │\n",
       "│ int32 │ varchar │ int32 │\n",
       "├───────┼─────────┼───────┤\n",
       "│     1 │ Alice   │    26 │\n",
       "│     1 │ Alice   │    26 │\n",
       "│     1 │ Alice   │    26 │\n",
       "│     1 │ Alice   │    26 │\n",
       "│     1 │ Alice   │    26 │\n",
       "│     1 │ Bob     │    25 │\n",
       "└───────┴─────────┴───────┘"
      ]
     },
     "execution_count": 5,
     "metadata": {},
     "output_type": "execute_result"
    }
   ],
   "source": [
    "conn.query(\"SELECT * FROM users\")"
   ]
  },
  {
   "cell_type": "code",
   "execution_count": 6,
   "id": "424e6951-ce06-4b9e-82ff-dae6a1d47f6e",
   "metadata": {
    "execution": {
     "iopub.execute_input": "2024-09-15T21:05:48.026356Z",
     "iopub.status.busy": "2024-09-15T21:05:48.025282Z",
     "iopub.status.idle": "2024-09-15T21:05:48.039809Z",
     "shell.execute_reply": "2024-09-15T21:05:48.038605Z",
     "shell.execute_reply.started": "2024-09-15T21:05:48.026301Z"
    }
   },
   "outputs": [
    {
     "data": {
      "text/plain": [
       "┌───────┬─────────┬───────┐\n",
       "│  id   │  name   │  age  │\n",
       "│ int32 │ varchar │ int32 │\n",
       "├───────┼─────────┼───────┤\n",
       "│     1 │ Alice   │    26 │\n",
       "│     1 │ Alice   │    26 │\n",
       "│     1 │ Alice   │    26 │\n",
       "│     1 │ Alice   │    26 │\n",
       "│     1 │ Alice   │    26 │\n",
       "│     1 │ Bob     │    25 │\n",
       "└───────┴─────────┴───────┘"
      ]
     },
     "execution_count": 6,
     "metadata": {},
     "output_type": "execute_result"
    }
   ],
   "source": [
    "delete_query = f\"DELETE FROM users WHERE name = 'Alice' AND age = 25;\"\n",
    "conn.query(delete_query)\n",
    "conn.query(\"SELECT * FROM users\")"
   ]
  },
  {
   "cell_type": "code",
   "execution_count": 7,
   "id": "7350093d-1b62-4e2d-9260-189cdab44b23",
   "metadata": {
    "execution": {
     "iopub.execute_input": "2024-09-15T21:05:48.041356Z",
     "iopub.status.busy": "2024-09-15T21:05:48.041000Z",
     "iopub.status.idle": "2024-09-15T21:05:48.058056Z",
     "shell.execute_reply": "2024-09-15T21:05:48.056722Z",
     "shell.execute_reply.started": "2024-09-15T21:05:48.041323Z"
    }
   },
   "outputs": [
    {
     "data": {
      "text/plain": [
       "┌───────┬─────────┬───────┐\n",
       "│  id   │  name   │  age  │\n",
       "│ int32 │ varchar │ int32 │\n",
       "├───────┼─────────┼───────┤\n",
       "│     1 │ Alice   │    30 │\n",
       "│     1 │ Alice   │    30 │\n",
       "│     1 │ Alice   │    30 │\n",
       "│     1 │ Alice   │    30 │\n",
       "│     1 │ Alice   │    30 │\n",
       "│     1 │ Bob     │    25 │\n",
       "└───────┴─────────┴───────┘"
      ]
     },
     "execution_count": 7,
     "metadata": {},
     "output_type": "execute_result"
    }
   ],
   "source": [
    "update_query = f\"UPDATE users SET age = 30 WHERE name = 'Alice';\"\n",
    "conn.query(update_query)\n",
    "conn.query(\"SELECT * FROM users\")"
   ]
  },
  {
   "cell_type": "code",
   "execution_count": 8,
   "id": "4aa766d4-5f84-4643-9154-9da0bc80766c",
   "metadata": {
    "execution": {
     "iopub.execute_input": "2024-09-15T21:05:48.101441Z",
     "iopub.status.busy": "2024-09-15T21:05:48.101024Z",
     "iopub.status.idle": "2024-09-15T21:05:48.113630Z",
     "shell.execute_reply": "2024-09-15T21:05:48.112549Z",
     "shell.execute_reply.started": "2024-09-15T21:05:48.101403Z"
    }
   },
   "outputs": [],
   "source": [
    "query = '''DROP TABLE IF EXISTS ativos;\n",
    "            CREATE TABLE ativos (\n",
    "            id INTEGER,\n",
    "            name VARCHAR,\n",
    "            dt_vcto INTEGER,\n",
    "            complemento VARCHAR,\n",
    "            timestamp TIMESTAMP\n",
    "            );'''\n",
    "conn.query(query)"
   ]
  },
  {
   "cell_type": "code",
   "execution_count": 9,
   "id": "3abf9647-602c-414c-a5be-849afcf7b516",
   "metadata": {
    "execution": {
     "iopub.execute_input": "2024-09-15T21:05:48.570638Z",
     "iopub.status.busy": "2024-09-15T21:05:48.570210Z",
     "iopub.status.idle": "2024-09-15T21:05:48.608252Z",
     "shell.execute_reply": "2024-09-15T21:05:48.606840Z",
     "shell.execute_reply.started": "2024-09-15T21:05:48.570607Z"
    }
   },
   "outputs": [],
   "source": [
    "ts = datetime.now()\n",
    "complemento = {\"dt_ini\":\"20240101\",\n",
    "                \"notional\":100000}\n",
    "\n",
    "insert_query = f\"\"\"\n",
    "INSERT INTO ativos\n",
    "(id, name, complemento, timestamp)\n",
    "VALUES (12345, 'ndf', {str(complemento)},'{ts}');\"\"\"\n",
    "conn.query(insert_query)"
   ]
  },
  {
   "cell_type": "code",
   "execution_count": 10,
   "id": "d3cca687-ffba-4d32-bc82-692e9b1eefb3",
   "metadata": {
    "execution": {
     "iopub.execute_input": "2024-09-15T21:05:49.197357Z",
     "iopub.status.busy": "2024-09-15T21:05:49.196429Z",
     "iopub.status.idle": "2024-09-15T21:05:49.215670Z",
     "shell.execute_reply": "2024-09-15T21:05:49.214493Z",
     "shell.execute_reply.started": "2024-09-15T21:05:49.197294Z"
    }
   },
   "outputs": [
    {
     "data": {
      "text/plain": [
       "┌───────┬─────────┬─────────┬──────────────────────────────────────────┬────────────────────────────┐\n",
       "│  id   │  name   │ dt_vcto │               complemento                │         timestamp          │\n",
       "│ int32 │ varchar │  int32  │                 varchar                  │         timestamp          │\n",
       "├───────┼─────────┼─────────┼──────────────────────────────────────────┼────────────────────────────┤\n",
       "│ 12345 │ ndf     │    NULL │ {'dt_ini': 20240101, 'notional': 100000} │ 2024-09-15 18:05:48.572693 │\n",
       "└───────┴─────────┴─────────┴──────────────────────────────────────────┴────────────────────────────┘"
      ]
     },
     "execution_count": 10,
     "metadata": {},
     "output_type": "execute_result"
    }
   ],
   "source": [
    "conn.query('SELECT * FROM ativos')"
   ]
  },
  {
   "cell_type": "code",
   "execution_count": 11,
   "id": "532153dc-3e45-4ee3-a11f-2e0f285663bf",
   "metadata": {
    "execution": {
     "iopub.execute_input": "2024-09-15T21:05:49.939567Z",
     "iopub.status.busy": "2024-09-15T21:05:49.938157Z",
     "iopub.status.idle": "2024-09-15T21:05:49.975592Z",
     "shell.execute_reply": "2024-09-15T21:05:49.973142Z",
     "shell.execute_reply.started": "2024-09-15T21:05:49.939464Z"
    }
   },
   "outputs": [
    {
     "data": {
      "text/plain": [
       "{'dt_ini': 20240101, 'notional': 100000}"
      ]
     },
     "execution_count": 11,
     "metadata": {},
     "output_type": "execute_result"
    }
   ],
   "source": [
    "ts = conn.query('SELECT MAX(timestamp) as ts FROM ativos WHERE id = 12345').df().ts.values[0]\n",
    "# ts\n",
    "comp = conn.query(f\"SELECT complemento FROM ativos WHERE id = 12345 AND timestamp = '{ts}'\").df()\n",
    "eval(comp.complemento.values[0])"
   ]
  },
  {
   "cell_type": "code",
   "execution_count": 15,
   "id": "842ab48c-62f3-4601-a30b-bb343f6a4ec6",
   "metadata": {
    "execution": {
     "iopub.execute_input": "2024-09-15T21:06:06.568622Z",
     "iopub.status.busy": "2024-09-15T21:06:06.567321Z",
     "iopub.status.idle": "2024-09-15T21:06:06.586988Z",
     "shell.execute_reply": "2024-09-15T21:06:06.585661Z",
     "shell.execute_reply.started": "2024-09-15T21:06:06.568553Z"
    }
   },
   "outputs": [],
   "source": [
    "conn = duckdb.connect('my_database.duckdb')\n"
   ]
  },
  {
   "cell_type": "code",
   "execution_count": 16,
   "id": "0dd4791b-f186-4243-bd9c-35b8e89cc296",
   "metadata": {
    "execution": {
     "iopub.execute_input": "2024-09-15T21:06:06.823327Z",
     "iopub.status.busy": "2024-09-15T21:06:06.822439Z",
     "iopub.status.idle": "2024-09-15T21:06:06.835231Z",
     "shell.execute_reply": "2024-09-15T21:06:06.833950Z",
     "shell.execute_reply.started": "2024-09-15T21:06:06.823284Z"
    }
   },
   "outputs": [
    {
     "data": {
      "text/plain": [
       "┌───────┬─────────┐\n",
       "│ teste │  nome   │\n",
       "│ int64 │ varchar │\n",
       "├───────┼─────────┤\n",
       "│     1 │ teste   │\n",
       "│     2 │ teste   │\n",
       "│     3 │ teste   │\n",
       "└───────┴─────────┘"
      ]
     },
     "execution_count": 16,
     "metadata": {},
     "output_type": "execute_result"
    }
   ],
   "source": [
    "conn.query('SELECT * FROM teste')"
   ]
  },
  {
   "cell_type": "code",
   "execution_count": 21,
   "id": "c43203f2-3570-4969-8244-a31edf8e059c",
   "metadata": {
    "execution": {
     "iopub.execute_input": "2024-09-15T21:07:39.913141Z",
     "iopub.status.busy": "2024-09-15T21:07:39.912572Z",
     "iopub.status.idle": "2024-09-15T21:07:39.931194Z",
     "shell.execute_reply": "2024-09-15T21:07:39.929269Z",
     "shell.execute_reply.started": "2024-09-15T21:07:39.913093Z"
    }
   },
   "outputs": [],
   "source": [
    "conn.query(\"EXPORT DATABASE 'ddb/' (FORMAT PARQUET);\")"
   ]
  },
  {
   "cell_type": "code",
   "execution_count": 22,
   "id": "3606a633-95a0-4e6b-98f2-5882cd924e7a",
   "metadata": {
    "execution": {
     "iopub.execute_input": "2024-09-15T21:08:08.505748Z",
     "iopub.status.busy": "2024-09-15T21:08:08.505177Z",
     "iopub.status.idle": "2024-09-15T21:08:08.521791Z",
     "shell.execute_reply": "2024-09-15T21:08:08.520337Z",
     "shell.execute_reply.started": "2024-09-15T21:08:08.505702Z"
    }
   },
   "outputs": [],
   "source": [
    "conn2 = duckdb.connect()"
   ]
  },
  {
   "cell_type": "code",
   "execution_count": 26,
   "id": "a0ec0647-e6ee-4f3d-a840-aa3d4347d366",
   "metadata": {
    "execution": {
     "iopub.execute_input": "2024-09-15T21:08:38.030246Z",
     "iopub.status.busy": "2024-09-15T21:08:38.029537Z",
     "iopub.status.idle": "2024-09-15T21:08:38.052712Z",
     "shell.execute_reply": "2024-09-15T21:08:38.051536Z",
     "shell.execute_reply.started": "2024-09-15T21:08:38.030190Z"
    }
   },
   "outputs": [
    {
     "data": {
      "text/plain": [
       "┌─────────┐\n",
       "│  name   │\n",
       "│ varchar │\n",
       "├─────────┤\n",
       "│ 0 rows  │\n",
       "└─────────┘"
      ]
     },
     "execution_count": 26,
     "metadata": {},
     "output_type": "execute_result"
    }
   ],
   "source": [
    "conn2.query(\"SHOW TABLES\")"
   ]
  },
  {
   "cell_type": "code",
   "execution_count": 27,
   "id": "9aa2ef0e-a4f3-4cea-aae2-37f0a5912cf3",
   "metadata": {
    "execution": {
     "iopub.execute_input": "2024-09-15T21:08:48.769345Z",
     "iopub.status.busy": "2024-09-15T21:08:48.768042Z",
     "iopub.status.idle": "2024-09-15T21:08:48.782356Z",
     "shell.execute_reply": "2024-09-15T21:08:48.780690Z",
     "shell.execute_reply.started": "2024-09-15T21:08:48.769280Z"
    }
   },
   "outputs": [],
   "source": [
    "conn2.query(\"IMPORT DATABASE 'ddb/'\")"
   ]
  },
  {
   "cell_type": "code",
   "execution_count": 28,
   "id": "a8636f59-2b64-46b1-92a7-50a46ab7bac8",
   "metadata": {
    "execution": {
     "iopub.execute_input": "2024-09-15T21:08:53.180194Z",
     "iopub.status.busy": "2024-09-15T21:08:53.178894Z",
     "iopub.status.idle": "2024-09-15T21:08:53.209388Z",
     "shell.execute_reply": "2024-09-15T21:08:53.207869Z",
     "shell.execute_reply.started": "2024-09-15T21:08:53.180135Z"
    }
   },
   "outputs": [
    {
     "data": {
      "text/plain": [
       "┌─────────┐\n",
       "│  name   │\n",
       "│ varchar │\n",
       "├─────────┤\n",
       "│ ativos  │\n",
       "│ teste   │\n",
       "│ users   │\n",
       "└─────────┘"
      ]
     },
     "execution_count": 28,
     "metadata": {},
     "output_type": "execute_result"
    }
   ],
   "source": [
    "conn2.query(\"SHOW TABLES\")"
   ]
  },
  {
   "cell_type": "code",
   "execution_count": null,
   "id": "d4fb19bc-3a72-4c78-b373-e64889ff34d2",
   "metadata": {},
   "outputs": [],
   "source": []
  }
 ],
 "metadata": {
  "kernelspec": {
   "display_name": "Python 3 (ipykernel)",
   "language": "python",
   "name": "python3"
  },
  "language_info": {
   "codemirror_mode": {
    "name": "ipython",
    "version": 3
   },
   "file_extension": ".py",
   "mimetype": "text/x-python",
   "name": "python",
   "nbconvert_exporter": "python",
   "pygments_lexer": "ipython3",
   "version": "3.10.12"
  },
  "widgets": {
   "application/vnd.jupyter.widget-state+json": {
    "state": {},
    "version_major": 2,
    "version_minor": 0
   }
  }
 },
 "nbformat": 4,
 "nbformat_minor": 5
}
