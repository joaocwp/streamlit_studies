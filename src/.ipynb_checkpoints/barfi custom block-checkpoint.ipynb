{
 "cells": [
  {
   "cell_type": "code",
   "execution_count": 1,
   "id": "8bdd8677-5ccf-4031-adca-556d28f252fb",
   "metadata": {
    "execution": {
     "iopub.execute_input": "2024-07-20T23:03:04.435332Z",
     "iopub.status.busy": "2024-07-20T23:03:04.434813Z",
     "iopub.status.idle": "2024-07-20T23:03:04.471738Z",
     "shell.execute_reply": "2024-07-20T23:03:04.470613Z",
     "shell.execute_reply.started": "2024-07-20T23:03:04.435293Z"
    }
   },
   "outputs": [],
   "source": [
    "%load_ext autoreload\n",
    "%autoreload 2"
   ]
  },
  {
   "cell_type": "code",
   "execution_count": 17,
   "id": "cdc19339-46c3-4db4-a468-f707047b56ac",
   "metadata": {
    "execution": {
     "iopub.execute_input": "2024-07-20T23:05:26.308023Z",
     "iopub.status.busy": "2024-07-20T23:05:26.306561Z",
     "iopub.status.idle": "2024-07-20T23:05:26.347127Z",
     "shell.execute_reply": "2024-07-20T23:05:26.346024Z",
     "shell.execute_reply.started": "2024-07-20T23:05:26.307939Z"
    }
   },
   "outputs": [],
   "source": [
    "import pandas as pd\n",
    "import numpy as np\n",
    "import joblib\n",
    "from copy import deepcopy"
   ]
  },
  {
   "cell_type": "markdown",
   "id": "8a77d390-71af-43e2-996e-8b6cd59328b6",
   "metadata": {},
   "source": [
    "# Compute engine stand alone"
   ]
  },
  {
   "cell_type": "code",
   "execution_count": 3,
   "id": "0b92c66b-0a5d-4513-8b63-4f0d4abc0e75",
   "metadata": {
    "execution": {
     "iopub.execute_input": "2024-07-20T23:03:05.703486Z",
     "iopub.status.busy": "2024-07-20T23:03:05.703094Z",
     "iopub.status.idle": "2024-07-20T23:03:05.719049Z",
     "shell.execute_reply": "2024-07-20T23:03:05.717856Z",
     "shell.execute_reply.started": "2024-07-20T23:03:05.703460Z"
    }
   },
   "outputs": [],
   "source": [
    "file = joblib.load('schemas.barfi')"
   ]
  },
  {
   "cell_type": "code",
   "execution_count": 4,
   "id": "ac8ecd92-27b2-454c-bac2-6f2988470cf4",
   "metadata": {
    "execution": {
     "iopub.execute_input": "2024-07-20T23:03:05.721346Z",
     "iopub.status.busy": "2024-07-20T23:03:05.720649Z",
     "iopub.status.idle": "2024-07-20T23:03:05.738890Z",
     "shell.execute_reply": "2024-07-20T23:03:05.737749Z",
     "shell.execute_reply.started": "2024-07-20T23:03:05.721289Z"
    }
   },
   "outputs": [],
   "source": [
    "from_client = joblib.load('_from_client.pkl')"
   ]
  },
  {
   "cell_type": "code",
   "execution_count": 5,
   "id": "9ef5deff-1543-4d9b-9a51-12ce5c4c3f4f",
   "metadata": {
    "execution": {
     "iopub.execute_input": "2024-07-20T23:03:05.740834Z",
     "iopub.status.busy": "2024-07-20T23:03:05.740561Z",
     "iopub.status.idle": "2024-07-20T23:03:06.439036Z",
     "shell.execute_reply": "2024-07-20T23:03:06.437665Z",
     "shell.execute_reply.started": "2024-07-20T23:03:05.740811Z"
    }
   },
   "outputs": [
    {
     "name": "stderr",
     "output_type": "stream",
     "text": [
      "2024-07-20 20:03:06.429 WARNING streamlit.runtime.state.session_state_proxy: Session state does not function when running a script without `streamlit run`\n"
     ]
    },
    {
     "name": "stdout",
     "output_type": "stream",
     "text": [
      "import blocks\n",
      "starting blocks\n",
      "colums: RangeIndex(start=0, stop=0, step=1)\n"
     ]
    }
   ],
   "source": [
    "from blocks import init\n",
    "from streamlit import session_state as session\n",
    "session.dados = pd.DataFrame()\n",
    "init()"
   ]
  },
  {
   "cell_type": "code",
   "execution_count": 6,
   "id": "30c78da9-c989-4097-bd46-725aa99834d2",
   "metadata": {
    "execution": {
     "iopub.execute_input": "2024-07-20T23:03:06.442061Z",
     "iopub.status.busy": "2024-07-20T23:03:06.440737Z",
     "iopub.status.idle": "2024-07-20T23:03:06.468267Z",
     "shell.execute_reply": "2024-07-20T23:03:06.467075Z",
     "shell.execute_reply.started": "2024-07-20T23:03:06.441999Z"
    }
   },
   "outputs": [],
   "source": [
    "from Barfi import ComputeEngine\n",
    "\n",
    "def get_execution(fluxo, base_blocks_list):\n",
    "    _ce = ComputeEngine(blocks=base_blocks_list)\n",
    "    _ce.add_editor_state(fluxo)\n",
    "    _ce._map_block_link()\n",
    "    _ce._execute_compute()"
   ]
  },
  {
   "cell_type": "code",
   "execution_count": 7,
   "id": "7793d527-6d69-4361-999d-f8c4fe15b365",
   "metadata": {
    "execution": {
     "iopub.execute_input": "2024-07-20T23:03:06.471483Z",
     "iopub.status.busy": "2024-07-20T23:03:06.470532Z",
     "iopub.status.idle": "2024-07-20T23:03:06.492685Z",
     "shell.execute_reply": "2024-07-20T23:03:06.491248Z",
     "shell.execute_reply.started": "2024-07-20T23:03:06.471387Z"
    }
   },
   "outputs": [
    {
     "name": "stdout",
     "output_type": "stream",
     "text": [
      "Resultado: 3\n"
     ]
    }
   ],
   "source": [
    "get_execution(file['soma3'], session.blocks)"
   ]
  },
  {
   "cell_type": "markdown",
   "id": "27dbe5ef-1697-4651-9bf6-dcbb22823002",
   "metadata": {},
   "source": [
    "# Entrada block"
   ]
  },
  {
   "cell_type": "code",
   "execution_count": 31,
   "id": "679ee950-c950-48c0-9b68-c90bba5ce454",
   "metadata": {
    "execution": {
     "iopub.execute_input": "2024-07-20T23:08:07.900140Z",
     "iopub.status.busy": "2024-07-20T23:08:07.899127Z",
     "iopub.status.idle": "2024-07-20T23:08:07.932663Z",
     "shell.execute_reply": "2024-07-20T23:08:07.931277Z",
     "shell.execute_reply.started": "2024-07-20T23:08:07.900082Z"
    }
   },
   "outputs": [],
   "source": [
    "file = joblib.load('schemas.barfi')\n",
    "entr = file['entradas']"
   ]
  },
  {
   "cell_type": "code",
   "execution_count": 32,
   "id": "62d68cdc-4251-42fc-87f9-959561e225cb",
   "metadata": {
    "execution": {
     "iopub.execute_input": "2024-07-20T23:08:08.082110Z",
     "iopub.status.busy": "2024-07-20T23:08:08.080905Z",
     "iopub.status.idle": "2024-07-20T23:08:08.126234Z",
     "shell.execute_reply": "2024-07-20T23:08:08.124357Z",
     "shell.execute_reply.started": "2024-07-20T23:08:08.081989Z"
    }
   },
   "outputs": [
    {
     "name": "stdout",
     "output_type": "stream",
     "text": [
      "nome: entrada-1 valor: 1\n",
      "nome: entrada-2 valor: 2\n",
      "Resultado: 3\n"
     ]
    }
   ],
   "source": [
    "get_execution(entr, session.blocks)"
   ]
  },
  {
   "cell_type": "code",
   "execution_count": 33,
   "id": "57aba1ff-6826-43ae-a013-efae4a92b278",
   "metadata": {
    "execution": {
     "iopub.execute_input": "2024-07-20T23:08:08.443984Z",
     "iopub.status.busy": "2024-07-20T23:08:08.443182Z",
     "iopub.status.idle": "2024-07-20T23:08:08.500457Z",
     "shell.execute_reply": "2024-07-20T23:08:08.498909Z",
     "shell.execute_reply.started": "2024-07-20T23:08:08.443922Z"
    }
   },
   "outputs": [],
   "source": [
    "def get_dict_from_interfaces(interface):\n",
    "    aux = {}\n",
    "    for i in interface:\n",
    "        aux[i[0]] = i[1]\n",
    "    return aux\n",
    "\n",
    "\n",
    "def encode_dict_to_interface(aux_dict):\n",
    "    interface = [[key, aux_dict[key]] for key in aux_dict]\n",
    "    return interface\n",
    "\n",
    "\n",
    "def encode_val_to_entradas(entra, val_dict):\n",
    "    aux = entra.copy()\n",
    "    for entrada in aux:\n",
    "        name = entrada['name']\n",
    "        tmp = get_dict_from_interfaces(entrada['interfaces'])\n",
    "        tmp['entrada']['value'] = val_dict[name]\n",
    "        encoded_interface = encode_dict_to_interface(tmp)\n",
    "        entrada['interfaces'] = encoded_interface\n",
    "    return aux\n",
    "\n",
    "def get_ids_entradas(entradas):\n",
    "    aux = entradas.copy()\n",
    "    ids = []\n",
    "    for entrada in aux:\n",
    "        tmp = get_dict_from_interfaces(entrada['interfaces'])\n",
    "        ids.append(tmp['entrada']['id'])\n",
    "    return ids\n",
    "\n",
    "\n",
    "def get_ids_from_conn(connections, to_ids):\n",
    "    aux = connections.copy()\n",
    "    entry_dict = {}\n",
    "    ids = []\n",
    "    ids_from = []\n",
    "    pos = []\n",
    "    for i, conn in enumerate(connections):\n",
    "        if conn['to'] in to_ids:\n",
    "            entry_dict[i] = {'id': conn['id'],\n",
    "                             'from': conn['from'],\n",
    "                             'to': conn['to']}\n",
    "    return entry_dict\n",
    "\n",
    "\n",
    "def encode_entradas_to_const(entra, val_dict):\n",
    "    aux = entra['nodes'].copy()\n",
    "    for entrada in aux:\n",
    "        name = entrada['name']\n",
    "        if name in val_dict:\n",
    "            entrada['type'] = 'constante'\n",
    "            entrada['options'] = [['valor', val_dict[name]]]\n",
    "            tmp = get_dict_from_interfaces(entrada['interfaces'])\n",
    "            del tmp['entrada']\n",
    "            encoded_interface = encode_dict_to_interface(tmp)\n",
    "            entrada['interfaces'] = encoded_interface\n",
    "\n",
    "\n",
    "def get_to_dict_from_conn(connection):\n",
    "    aux = {i['to']:i for i in connection}\n",
    "    return aux\n",
    "\n",
    "\n",
    "def encode_conn_from_dict(dict_conn):\n",
    "    return list(dict_conn.values())\n",
    "\n",
    "\n",
    "def delete_connections(fluxo, to_ids):\n",
    "    tmp = get_to_dict_from_conn(fluxo['connections'])\n",
    "    for i in to_ids:\n",
    "        try:\n",
    "            del tmp[i]\n",
    "        except:\n",
    "            pass\n",
    "    return tmp\n",
    "\n",
    "\n",
    "def get_entradas(fluxo):\n",
    "    entradas = [i for i in fluxo['nodes'] if i['type'] == 'entrada']\n",
    "    return entradas\n",
    "\n",
    "\n",
    "def get_fluxo_const(fluxo, val_dict):\n",
    "    aux_fluxo = deepcopy(fluxo)\n",
    "    saidas = [i for i in aux_fluxo['nodes'] if i['type'] == 'saida']\n",
    "    saida_names = [i['name'] for i in saidas]\n",
    "    entradas = [i for i in aux_fluxo['nodes'] if i['type'] == 'entrada']\n",
    "    entrada_names = [i['name'] for i in entradas]\n",
    "    ids_entradas = get_ids_entradas(entradas)\n",
    "    entry_conn = get_ids_from_conn(aux_fluxo['connections'], ids_entradas)\n",
    "    tmp = delete_connections(aux_fluxo, ids_entradas)\n",
    "    aux_fluxo['connections'] = encode_conn_from_dict(tmp)\n",
    "    encode_entradas_to_const(aux_fluxo, val_dict)\n",
    "    return aux_fluxo\n"
   ]
  },
  {
   "cell_type": "code",
   "execution_count": 34,
   "id": "bfecce41-55fe-4776-810f-7790adead3ca",
   "metadata": {
    "execution": {
     "iopub.execute_input": "2024-07-20T23:08:10.711710Z",
     "iopub.status.busy": "2024-07-20T23:08:10.710972Z",
     "iopub.status.idle": "2024-07-20T23:08:10.748286Z",
     "shell.execute_reply": "2024-07-20T23:08:10.745970Z",
     "shell.execute_reply.started": "2024-07-20T23:08:10.711655Z"
    }
   },
   "outputs": [],
   "source": [
    "val_dict = {'entrada-1': 2, 'entrada-2': 3}\n",
    "# tmp = entradas.copy()\n",
    "# new_entr = encode_val_to_entradas(tmp, val_dict)"
   ]
  },
  {
   "cell_type": "code",
   "execution_count": 35,
   "id": "57ee42a8-bb3f-4b84-8b7a-601063c2ae17",
   "metadata": {
    "execution": {
     "iopub.execute_input": "2024-07-20T23:08:18.679232Z",
     "iopub.status.busy": "2024-07-20T23:08:18.678255Z",
     "iopub.status.idle": "2024-07-20T23:08:18.708824Z",
     "shell.execute_reply": "2024-07-20T23:08:18.707521Z",
     "shell.execute_reply.started": "2024-07-20T23:08:18.679170Z"
    }
   },
   "outputs": [],
   "source": [
    "new = get_fluxo_const(entr, val_dict)"
   ]
  },
  {
   "cell_type": "code",
   "execution_count": 36,
   "id": "f4ca2049-f60c-4060-9255-f42b32137998",
   "metadata": {
    "execution": {
     "iopub.execute_input": "2024-07-20T23:08:19.637493Z",
     "iopub.status.busy": "2024-07-20T23:08:19.636867Z",
     "iopub.status.idle": "2024-07-20T23:08:19.657188Z",
     "shell.execute_reply": "2024-07-20T23:08:19.655937Z",
     "shell.execute_reply.started": "2024-07-20T23:08:19.637455Z"
    }
   },
   "outputs": [
    {
     "name": "stdout",
     "output_type": "stream",
     "text": [
      "nome: entrada-1 valor: 1\n",
      "nome: entrada-2 valor: 2\n",
      "Resultado: 3\n"
     ]
    }
   ],
   "source": [
    "get_execution(entr, session.blocks)"
   ]
  },
  {
   "cell_type": "code",
   "execution_count": 37,
   "id": "0871126a-3770-4ca4-9ebc-cebef9dd90f1",
   "metadata": {
    "execution": {
     "iopub.execute_input": "2024-07-20T23:08:20.340288Z",
     "iopub.status.busy": "2024-07-20T23:08:20.339345Z",
     "iopub.status.idle": "2024-07-20T23:08:20.361186Z",
     "shell.execute_reply": "2024-07-20T23:08:20.359227Z",
     "shell.execute_reply.started": "2024-07-20T23:08:20.340225Z"
    }
   },
   "outputs": [
    {
     "name": "stdout",
     "output_type": "stream",
     "text": [
      "Resultado: 5\n"
     ]
    }
   ],
   "source": [
    "get_execution(new_entr, session.blocks)"
   ]
  },
  {
   "cell_type": "code",
   "execution_count": null,
   "id": "ead20902-a7a6-4f0e-bb9f-713b7a333efd",
   "metadata": {},
   "outputs": [],
   "source": []
  },
  {
   "cell_type": "code",
   "execution_count": null,
   "id": "72893316-26a6-4801-ab4e-5e0739273867",
   "metadata": {},
   "outputs": [],
   "source": []
  }
 ],
 "metadata": {
  "kernelspec": {
   "display_name": "venv-st",
   "language": "python",
   "name": "venv-st"
  },
  "language_info": {
   "codemirror_mode": {
    "name": "ipython",
    "version": 3
   },
   "file_extension": ".py",
   "mimetype": "text/x-python",
   "name": "python",
   "nbconvert_exporter": "python",
   "pygments_lexer": "ipython3",
   "version": "3.10.12"
  },
  "widgets": {
   "application/vnd.jupyter.widget-state+json": {
    "state": {},
    "version_major": 2,
    "version_minor": 0
   }
  }
 },
 "nbformat": 4,
 "nbformat_minor": 5
}
