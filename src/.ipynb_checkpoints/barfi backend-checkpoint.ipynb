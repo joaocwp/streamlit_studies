{
 "cells": [
  {
   "cell_type": "code",
   "execution_count": 1,
   "id": "2c7c0c24-7a8e-4d2e-907c-8f82229d5443",
   "metadata": {
    "execution": {
     "iopub.execute_input": "2024-07-09T00:57:08.940926Z",
     "iopub.status.busy": "2024-07-09T00:57:08.940336Z",
     "iopub.status.idle": "2024-07-09T00:57:08.956442Z",
     "shell.execute_reply": "2024-07-09T00:57:08.954943Z",
     "shell.execute_reply.started": "2024-07-09T00:57:08.940865Z"
    }
   },
   "outputs": [],
   "source": [
    "import sys\n",
    "sys.path.append('..')"
   ]
  },
  {
   "cell_type": "code",
   "execution_count": 1,
   "id": "7dd4c612-3cea-4cc1-8246-6acbbdc0d321",
   "metadata": {
    "execution": {
     "iopub.execute_input": "2024-07-09T01:24:20.350804Z",
     "iopub.status.busy": "2024-07-09T01:24:20.350390Z",
     "iopub.status.idle": "2024-07-09T01:24:20.542895Z",
     "shell.execute_reply": "2024-07-09T01:24:20.541325Z",
     "shell.execute_reply.started": "2024-07-09T01:24:20.350760Z"
    }
   },
   "outputs": [],
   "source": [
    "import streamlit as st\n",
    "from streamlit import session_state as session"
   ]
  },
  {
   "cell_type": "code",
   "execution_count": 3,
   "id": "ab59e7ed-7bd2-42e5-a98a-45f5c31ab46c",
   "metadata": {
    "execution": {
     "iopub.execute_input": "2024-07-09T01:24:45.693199Z",
     "iopub.status.busy": "2024-07-09T01:24:45.691781Z",
     "iopub.status.idle": "2024-07-09T01:24:45.704979Z",
     "shell.execute_reply": "2024-07-09T01:24:45.702888Z",
     "shell.execute_reply.started": "2024-07-09T01:24:45.693096Z"
    }
   },
   "outputs": [
    {
     "name": "stdout",
     "output_type": "stream",
     "text": [
      "checking\n"
     ]
    }
   ],
   "source": [
    "import loop"
   ]
  },
  {
   "cell_type": "code",
   "execution_count": 4,
   "id": "3bbad514-f85b-4caa-9e18-877e76447740",
   "metadata": {
    "execution": {
     "iopub.execute_input": "2024-07-09T01:24:52.302531Z",
     "iopub.status.busy": "2024-07-09T01:24:52.301840Z",
     "iopub.status.idle": "2024-07-09T01:24:52.320436Z",
     "shell.execute_reply": "2024-07-09T01:24:52.318569Z",
     "shell.execute_reply.started": "2024-07-09T01:24:52.302447Z"
    }
   },
   "outputs": [
    {
     "data": {
      "text/plain": [
       "5"
      ]
     },
     "execution_count": 4,
     "metadata": {},
     "output_type": "execute_result"
    }
   ],
   "source": [
    "session.teste"
   ]
  }
 ],
 "metadata": {
  "kernelspec": {
   "display_name": "venv-st",
   "language": "python",
   "name": "venv-st"
  },
  "language_info": {
   "codemirror_mode": {
    "name": "ipython",
    "version": 3
   },
   "file_extension": ".py",
   "mimetype": "text/x-python",
   "name": "python",
   "nbconvert_exporter": "python",
   "pygments_lexer": "ipython3",
   "version": "3.10.12"
  },
  "widgets": {
   "application/vnd.jupyter.widget-state+json": {
    "state": {},
    "version_major": 2,
    "version_minor": 0
   }
  }
 },
 "nbformat": 4,
 "nbformat_minor": 5
}
