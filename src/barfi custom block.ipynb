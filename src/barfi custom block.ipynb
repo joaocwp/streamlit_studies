{
 "cells": [
  {
   "cell_type": "code",
   "execution_count": 2,
   "id": "8bdd8677-5ccf-4031-adca-556d28f252fb",
   "metadata": {
    "execution": {
     "iopub.execute_input": "2024-07-20T23:56:19.308083Z",
     "iopub.status.busy": "2024-07-20T23:56:19.306983Z",
     "iopub.status.idle": "2024-07-20T23:56:19.332156Z",
     "shell.execute_reply": "2024-07-20T23:56:19.330656Z",
     "shell.execute_reply.started": "2024-07-20T23:56:19.308019Z"
    }
   },
   "outputs": [],
   "source": [
    "%load_ext autoreload\n",
    "%autoreload 2"
   ]
  },
  {
   "cell_type": "code",
   "execution_count": 3,
   "id": "cdc19339-46c3-4db4-a468-f707047b56ac",
   "metadata": {
    "execution": {
     "iopub.execute_input": "2024-07-20T23:56:20.006163Z",
     "iopub.status.busy": "2024-07-20T23:56:20.005426Z",
     "iopub.status.idle": "2024-07-20T23:56:20.446307Z",
     "shell.execute_reply": "2024-07-20T23:56:20.445606Z",
     "shell.execute_reply.started": "2024-07-20T23:56:20.006105Z"
    }
   },
   "outputs": [],
   "source": [
    "import pandas as pd\n",
    "import numpy as np\n",
    "import joblib\n",
    "from copy import deepcopy"
   ]
  },
  {
   "cell_type": "markdown",
   "id": "8a77d390-71af-43e2-996e-8b6cd59328b6",
   "metadata": {},
   "source": [
    "# Compute engine stand alone"
   ]
  },
  {
   "cell_type": "code",
   "execution_count": 4,
   "id": "0b92c66b-0a5d-4513-8b63-4f0d4abc0e75",
   "metadata": {
    "execution": {
     "iopub.execute_input": "2024-07-20T23:56:20.971318Z",
     "iopub.status.busy": "2024-07-20T23:56:20.970630Z",
     "iopub.status.idle": "2024-07-20T23:56:20.988141Z",
     "shell.execute_reply": "2024-07-20T23:56:20.987057Z",
     "shell.execute_reply.started": "2024-07-20T23:56:20.971258Z"
    }
   },
   "outputs": [],
   "source": [
    "file = joblib.load('schemas.barfi')"
   ]
  },
  {
   "cell_type": "code",
   "execution_count": 6,
   "id": "d43550fb-44b0-4cec-b4fd-ad924548d971",
   "metadata": {
    "execution": {
     "iopub.execute_input": "2024-07-20T23:56:27.381861Z",
     "iopub.status.busy": "2024-07-20T23:56:27.381148Z",
     "iopub.status.idle": "2024-07-20T23:56:27.408831Z",
     "shell.execute_reply": "2024-07-20T23:56:27.407798Z",
     "shell.execute_reply.started": "2024-07-20T23:56:27.381803Z"
    }
   },
   "outputs": [
    {
     "data": {
      "text/plain": [
       "{'nodes': [{'type': 'constante',\n",
       "   'id': 'node_17214380805906',\n",
       "   'name': 'constante-1',\n",
       "   'options': [['valor', 1]],\n",
       "   'state': {},\n",
       "   'interfaces': [['saida', {'id': 'ni_17214380805907', 'value': None}]],\n",
       "   'position': {'x': 29.61496596134924, 'y': 120.81975240581971},\n",
       "   'width': 200,\n",
       "   'twoColumn': False,\n",
       "   'customClasses': ''},\n",
       "  {'type': 'constante',\n",
       "   'id': 'node_17214380832128',\n",
       "   'name': 'constante-2',\n",
       "   'options': [['valor', 2]],\n",
       "   'state': {},\n",
       "   'interfaces': [['saida', {'id': 'ni_17214380832129', 'value': None}]],\n",
       "   'position': {'x': 26.0153194879953, 'y': 262.4058470244086},\n",
       "   'width': 200,\n",
       "   'twoColumn': False,\n",
       "   'customClasses': ''},\n",
       "  {'type': 'entrada',\n",
       "   'id': 'node_172143808522910',\n",
       "   'name': 'entrada-1',\n",
       "   'options': [],\n",
       "   'state': {},\n",
       "   'interfaces': [['entrada', {'id': 'ni_172143808523011', 'value': None}],\n",
       "    ['saida', {'id': 'ni_172143808523012', 'value': None}]],\n",
       "   'position': {'x': 283.9899834116954, 'y': 98.02199140791136},\n",
       "   'width': 200,\n",
       "   'twoColumn': False,\n",
       "   'customClasses': ''},\n",
       "  {'type': 'entrada',\n",
       "   'id': 'node_172143808811113',\n",
       "   'name': 'entrada-2',\n",
       "   'options': [],\n",
       "   'state': {},\n",
       "   'interfaces': [['entrada', {'id': 'ni_172143808811114', 'value': None}],\n",
       "    ['saida', {'id': 'ni_172143808811115', 'value': None}]],\n",
       "   'position': {'x': 286.3897477272647, 'y': 250.4070254465621},\n",
       "   'width': 200,\n",
       "   'twoColumn': False,\n",
       "   'customClasses': ''},\n",
       "  {'type': 'Soma',\n",
       "   'id': 'node_172143809427016',\n",
       "   'name': 'Soma-1',\n",
       "   'options': [],\n",
       "   'state': {},\n",
       "   'interfaces': [['valor 1', {'id': 'ni_172143809427017', 'value': None}],\n",
       "    ['valor 2', {'id': 'ni_172143809427018', 'value': None}],\n",
       "    ['saida', {'id': 'ni_172143809427019', 'value': None}]],\n",
       "   'position': {'x': 546.309463739758, 'y': 116.96916955774385},\n",
       "   'width': 200,\n",
       "   'twoColumn': False,\n",
       "   'customClasses': ''},\n",
       "  {'type': 'saida',\n",
       "   'id': 'node_172143809935420',\n",
       "   'name': 'saida-1',\n",
       "   'options': [],\n",
       "   'state': {},\n",
       "   'interfaces': [['saida', {'id': 'ni_172143809935421', 'value': None}]],\n",
       "   'position': {'x': 839.159716051742, 'y': 257.4570660957028},\n",
       "   'width': 200,\n",
       "   'twoColumn': False,\n",
       "   'customClasses': ''}],\n",
       " 'connections': [{'id': '172143810453524',\n",
       "   'from': 'ni_172143809427019',\n",
       "   'to': 'ni_172143809935421'},\n",
       "  {'id': '172143810838428',\n",
       "   'from': 'ni_172143808523012',\n",
       "   'to': 'ni_172143809427017'},\n",
       "  {'id': '172143811318731',\n",
       "   'from': 'ni_172143808811115',\n",
       "   'to': 'ni_172143809427018'},\n",
       "  {'id': '172143811556834',\n",
       "   'from': 'ni_17214380805907',\n",
       "   'to': 'ni_172143808523011'},\n",
       "  {'id': '172143811948237',\n",
       "   'from': 'ni_17214380832129',\n",
       "   'to': 'ni_172143808811114'}],\n",
       " 'panning': {'x': 100.56000168256715, 'y': 29.679514323113807},\n",
       " 'scaling': 0.4980208366047286}"
      ]
     },
     "execution_count": 6,
     "metadata": {},
     "output_type": "execute_result"
    }
   ],
   "source": [
    "file['entradas']"
   ]
  },
  {
   "cell_type": "code",
   "execution_count": 4,
   "id": "ac8ecd92-27b2-454c-bac2-6f2988470cf4",
   "metadata": {
    "execution": {
     "iopub.execute_input": "2024-07-20T23:03:05.721346Z",
     "iopub.status.busy": "2024-07-20T23:03:05.720649Z",
     "iopub.status.idle": "2024-07-20T23:03:05.738890Z",
     "shell.execute_reply": "2024-07-20T23:03:05.737749Z",
     "shell.execute_reply.started": "2024-07-20T23:03:05.721289Z"
    }
   },
   "outputs": [],
   "source": [
    "from_client = joblib.load('_from_client.pkl')"
   ]
  },
  {
   "cell_type": "code",
   "execution_count": 5,
   "id": "9ef5deff-1543-4d9b-9a51-12ce5c4c3f4f",
   "metadata": {
    "execution": {
     "iopub.execute_input": "2024-07-20T23:03:05.740834Z",
     "iopub.status.busy": "2024-07-20T23:03:05.740561Z",
     "iopub.status.idle": "2024-07-20T23:03:06.439036Z",
     "shell.execute_reply": "2024-07-20T23:03:06.437665Z",
     "shell.execute_reply.started": "2024-07-20T23:03:05.740811Z"
    }
   },
   "outputs": [
    {
     "name": "stderr",
     "output_type": "stream",
     "text": [
      "2024-07-20 20:03:06.429 WARNING streamlit.runtime.state.session_state_proxy: Session state does not function when running a script without `streamlit run`\n"
     ]
    },
    {
     "name": "stdout",
     "output_type": "stream",
     "text": [
      "import blocks\n",
      "starting blocks\n",
      "colums: RangeIndex(start=0, stop=0, step=1)\n"
     ]
    }
   ],
   "source": [
    "from blocks import init\n",
    "from streamlit import session_state as session\n",
    "session.dados = pd.DataFrame()\n",
    "init()"
   ]
  },
  {
   "cell_type": "code",
   "execution_count": 6,
   "id": "30c78da9-c989-4097-bd46-725aa99834d2",
   "metadata": {
    "execution": {
     "iopub.execute_input": "2024-07-20T23:03:06.442061Z",
     "iopub.status.busy": "2024-07-20T23:03:06.440737Z",
     "iopub.status.idle": "2024-07-20T23:03:06.468267Z",
     "shell.execute_reply": "2024-07-20T23:03:06.467075Z",
     "shell.execute_reply.started": "2024-07-20T23:03:06.441999Z"
    }
   },
   "outputs": [],
   "source": [
    "from Barfi import ComputeEngine\n",
    "\n",
    "def get_execution(fluxo, base_blocks_list):\n",
    "    _ce = ComputeEngine(blocks=base_blocks_list)\n",
    "    _ce.add_editor_state(fluxo)\n",
    "    _ce._map_block_link()\n",
    "    _ce._execute_compute()"
   ]
  },
  {
   "cell_type": "code",
   "execution_count": 7,
   "id": "7793d527-6d69-4361-999d-f8c4fe15b365",
   "metadata": {
    "execution": {
     "iopub.execute_input": "2024-07-20T23:03:06.471483Z",
     "iopub.status.busy": "2024-07-20T23:03:06.470532Z",
     "iopub.status.idle": "2024-07-20T23:03:06.492685Z",
     "shell.execute_reply": "2024-07-20T23:03:06.491248Z",
     "shell.execute_reply.started": "2024-07-20T23:03:06.471387Z"
    }
   },
   "outputs": [
    {
     "name": "stdout",
     "output_type": "stream",
     "text": [
      "Resultado: 3\n"
     ]
    }
   ],
   "source": [
    "get_execution(file['soma3'], session.blocks)"
   ]
  },
  {
   "cell_type": "markdown",
   "id": "27dbe5ef-1697-4651-9bf6-dcbb22823002",
   "metadata": {},
   "source": [
    "# Entrada block"
   ]
  },
  {
   "cell_type": "code",
   "execution_count": 31,
   "id": "679ee950-c950-48c0-9b68-c90bba5ce454",
   "metadata": {
    "execution": {
     "iopub.execute_input": "2024-07-20T23:08:07.900140Z",
     "iopub.status.busy": "2024-07-20T23:08:07.899127Z",
     "iopub.status.idle": "2024-07-20T23:08:07.932663Z",
     "shell.execute_reply": "2024-07-20T23:08:07.931277Z",
     "shell.execute_reply.started": "2024-07-20T23:08:07.900082Z"
    }
   },
   "outputs": [],
   "source": [
    "file = joblib.load('schemas.barfi')\n",
    "entr = file['entradas']"
   ]
  },
  {
   "cell_type": "code",
   "execution_count": 54,
   "id": "ce17614a-c13f-4606-b7fc-7a2680686c15",
   "metadata": {
    "execution": {
     "iopub.execute_input": "2024-07-20T23:27:17.960415Z",
     "iopub.status.busy": "2024-07-20T23:27:17.959212Z",
     "iopub.status.idle": "2024-07-20T23:27:17.993941Z",
     "shell.execute_reply": "2024-07-20T23:27:17.992424Z",
     "shell.execute_reply.started": "2024-07-20T23:27:17.960346Z"
    }
   },
   "outputs": [
    {
     "name": "stdout",
     "output_type": "stream",
     "text": [
      "teste\n",
      "teste4\n",
      "soma3\n",
      "entradas\n"
     ]
    }
   ],
   "source": [
    "for fluxo in file:\n",
    "    print(fluxo)"
   ]
  },
  {
   "cell_type": "code",
   "execution_count": 32,
   "id": "62d68cdc-4251-42fc-87f9-959561e225cb",
   "metadata": {
    "execution": {
     "iopub.execute_input": "2024-07-20T23:08:08.082110Z",
     "iopub.status.busy": "2024-07-20T23:08:08.080905Z",
     "iopub.status.idle": "2024-07-20T23:08:08.126234Z",
     "shell.execute_reply": "2024-07-20T23:08:08.124357Z",
     "shell.execute_reply.started": "2024-07-20T23:08:08.081989Z"
    }
   },
   "outputs": [
    {
     "name": "stdout",
     "output_type": "stream",
     "text": [
      "nome: entrada-1 valor: 1\n",
      "nome: entrada-2 valor: 2\n",
      "Resultado: 3\n"
     ]
    }
   ],
   "source": [
    "get_execution(entr, session.blocks)"
   ]
  },
  {
   "cell_type": "code",
   "execution_count": 33,
   "id": "57aba1ff-6826-43ae-a013-efae4a92b278",
   "metadata": {
    "execution": {
     "iopub.execute_input": "2024-07-20T23:08:08.443984Z",
     "iopub.status.busy": "2024-07-20T23:08:08.443182Z",
     "iopub.status.idle": "2024-07-20T23:08:08.500457Z",
     "shell.execute_reply": "2024-07-20T23:08:08.498909Z",
     "shell.execute_reply.started": "2024-07-20T23:08:08.443922Z"
    }
   },
   "outputs": [],
   "source": [
    "def get_dict_from_interfaces(interface):\n",
    "    aux = {}\n",
    "    for i in interface:\n",
    "        aux[i[0]] = i[1]\n",
    "    return aux\n",
    "\n",
    "\n",
    "def encode_dict_to_interface(aux_dict):\n",
    "    interface = [[key, aux_dict[key]] for key in aux_dict]\n",
    "    return interface\n",
    "\n",
    "\n",
    "def encode_val_to_entradas(entra, val_dict):\n",
    "    aux = entra.copy()\n",
    "    for entrada in aux:\n",
    "        name = entrada['name']\n",
    "        tmp = get_dict_from_interfaces(entrada['interfaces'])\n",
    "        tmp['entrada']['value'] = val_dict[name]\n",
    "        encoded_interface = encode_dict_to_interface(tmp)\n",
    "        entrada['interfaces'] = encoded_interface\n",
    "    return aux\n",
    "\n",
    "def get_ids_entradas(entradas):\n",
    "    aux = entradas.copy()\n",
    "    ids = []\n",
    "    for entrada in aux:\n",
    "        tmp = get_dict_from_interfaces(entrada['interfaces'])\n",
    "        ids.append(tmp['entrada']['id'])\n",
    "    return ids\n",
    "\n",
    "\n",
    "def get_ids_from_conn(connections, to_ids):\n",
    "    aux = connections.copy()\n",
    "    entry_dict = {}\n",
    "    ids = []\n",
    "    ids_from = []\n",
    "    pos = []\n",
    "    for i, conn in enumerate(connections):\n",
    "        if conn['to'] in to_ids:\n",
    "            entry_dict[i] = {'id': conn['id'],\n",
    "                             'from': conn['from'],\n",
    "                             'to': conn['to']}\n",
    "    return entry_dict\n",
    "\n",
    "\n",
    "def encode_entradas_to_const(entra, val_dict):\n",
    "    aux = entra['nodes'].copy()\n",
    "    for entrada in aux:\n",
    "        name = entrada['name']\n",
    "        if name in val_dict:\n",
    "            entrada['type'] = 'constante'\n",
    "            entrada['options'] = [['valor', val_dict[name]]]\n",
    "            tmp = get_dict_from_interfaces(entrada['interfaces'])\n",
    "            del tmp['entrada']\n",
    "            encoded_interface = encode_dict_to_interface(tmp)\n",
    "            entrada['interfaces'] = encoded_interface\n",
    "\n",
    "\n",
    "def get_to_dict_from_conn(connection):\n",
    "    aux = {i['to']:i for i in connection}\n",
    "    return aux\n",
    "\n",
    "\n",
    "def encode_conn_from_dict(dict_conn):\n",
    "    return list(dict_conn.values())\n",
    "\n",
    "\n",
    "def delete_connections(fluxo, to_ids):\n",
    "    tmp = get_to_dict_from_conn(fluxo['connections'])\n",
    "    for i in to_ids:\n",
    "        try:\n",
    "            del tmp[i]\n",
    "        except:\n",
    "            pass\n",
    "    return tmp\n",
    "\n",
    "\n",
    "def get_entradas(fluxo):\n",
    "    entradas = [i for i in fluxo['nodes'] if i['type'] == 'entrada']\n",
    "    return entradas\n",
    "\n",
    "\n",
    "def get_fluxo_const(fluxo, val_dict):\n",
    "    aux_fluxo = deepcopy(fluxo)\n",
    "    saidas = [i for i in aux_fluxo['nodes'] if i['type'] == 'saida']\n",
    "    saida_names = [i['name'] for i in saidas]\n",
    "    entradas = [i for i in aux_fluxo['nodes'] if i['type'] == 'entrada']\n",
    "    entrada_names = [i['name'] for i in entradas]\n",
    "    ids_entradas = get_ids_entradas(entradas)\n",
    "    entry_conn = get_ids_from_conn(aux_fluxo['connections'], ids_entradas)\n",
    "    tmp = delete_connections(aux_fluxo, ids_entradas)\n",
    "    aux_fluxo['connections'] = encode_conn_from_dict(tmp)\n",
    "    encode_entradas_to_const(aux_fluxo, val_dict)\n",
    "    return aux_fluxo\n"
   ]
  },
  {
   "cell_type": "code",
   "execution_count": 43,
   "id": "bfecce41-55fe-4776-810f-7790adead3ca",
   "metadata": {
    "execution": {
     "iopub.execute_input": "2024-07-20T23:13:29.854798Z",
     "iopub.status.busy": "2024-07-20T23:13:29.853991Z",
     "iopub.status.idle": "2024-07-20T23:13:29.875655Z",
     "shell.execute_reply": "2024-07-20T23:13:29.874002Z",
     "shell.execute_reply.started": "2024-07-20T23:13:29.854738Z"
    }
   },
   "outputs": [],
   "source": [
    "val_dict = {'entrada-1': 2, 'entrada-2': 3}\n",
    "# tmp = entradas.copy()\n",
    "# new_entr = encode_val_to_entradas(tmp, val_dict)"
   ]
  },
  {
   "cell_type": "code",
   "execution_count": 45,
   "id": "57ee42a8-bb3f-4b84-8b7a-601063c2ae17",
   "metadata": {
    "execution": {
     "iopub.execute_input": "2024-07-20T23:13:34.377873Z",
     "iopub.status.busy": "2024-07-20T23:13:34.376260Z",
     "iopub.status.idle": "2024-07-20T23:13:34.413194Z",
     "shell.execute_reply": "2024-07-20T23:13:34.411484Z",
     "shell.execute_reply.started": "2024-07-20T23:13:34.377774Z"
    }
   },
   "outputs": [],
   "source": [
    "new = get_fluxo_const(entr, val_dict)"
   ]
  },
  {
   "cell_type": "code",
   "execution_count": 40,
   "id": "f4ca2049-f60c-4060-9255-f42b32137998",
   "metadata": {
    "execution": {
     "iopub.execute_input": "2024-07-20T23:13:17.822954Z",
     "iopub.status.busy": "2024-07-20T23:13:17.821301Z",
     "iopub.status.idle": "2024-07-20T23:13:17.865718Z",
     "shell.execute_reply": "2024-07-20T23:13:17.864119Z",
     "shell.execute_reply.started": "2024-07-20T23:13:17.822853Z"
    }
   },
   "outputs": [
    {
     "name": "stdout",
     "output_type": "stream",
     "text": [
      "nome: entrada-1 valor: 1\n",
      "nome: entrada-2 valor: 2\n",
      "Resultado: 3\n"
     ]
    }
   ],
   "source": [
    "get_execution(entr, session.blocks)"
   ]
  },
  {
   "cell_type": "code",
   "execution_count": 46,
   "id": "0871126a-3770-4ca4-9ebc-cebef9dd90f1",
   "metadata": {
    "execution": {
     "iopub.execute_input": "2024-07-20T23:13:35.944398Z",
     "iopub.status.busy": "2024-07-20T23:13:35.943983Z",
     "iopub.status.idle": "2024-07-20T23:13:35.962660Z",
     "shell.execute_reply": "2024-07-20T23:13:35.960837Z",
     "shell.execute_reply.started": "2024-07-20T23:13:35.944371Z"
    }
   },
   "outputs": [
    {
     "name": "stdout",
     "output_type": "stream",
     "text": [
      "Resultado: 5\n"
     ]
    }
   ],
   "source": [
    "get_execution(new, session.blocks)"
   ]
  },
  {
   "cell_type": "code",
   "execution_count": 50,
   "id": "ead20902-a7a6-4f0e-bb9f-713b7a333efd",
   "metadata": {
    "execution": {
     "iopub.execute_input": "2024-07-20T23:24:21.677097Z",
     "iopub.status.busy": "2024-07-20T23:24:21.676234Z",
     "iopub.status.idle": "2024-07-20T23:24:21.715830Z",
     "shell.execute_reply": "2024-07-20T23:24:21.714332Z",
     "shell.execute_reply.started": "2024-07-20T23:24:21.677024Z"
    }
   },
   "outputs": [
    {
     "data": {
      "text/plain": [
       "{'nodes': [{'type': 'constante',\n",
       "   'id': 'node_17205362694800',\n",
       "   'name': 'constante-1',\n",
       "   'options': [['valor', 4]],\n",
       "   'state': {},\n",
       "   'interfaces': [['saida', {'id': 'ni_17205362694801', 'value': None}]],\n",
       "   'position': {'x': 23.615555172426, 'y': 173.6145673483444},\n",
       "   'width': 200,\n",
       "   'twoColumn': False,\n",
       "   'customClasses': ''},\n",
       "  {'type': 'saida',\n",
       "   'id': 'node_17205362713032',\n",
       "   'name': 'saida-1',\n",
       "   'options': [],\n",
       "   'state': {},\n",
       "   'interfaces': [['saida', {'id': 'ni_17205362713043', 'value': None}]],\n",
       "   'position': {'x': 311.5872730407424, 'y': 172.41468519055974},\n",
       "   'width': 200,\n",
       "   'twoColumn': False,\n",
       "   'customClasses': ''}],\n",
       " 'connections': [{'id': '17205362733416',\n",
       "   'from': 'ni_17205362694801',\n",
       "   'to': 'ni_17205362713043'}],\n",
       " 'panning': {'x': 36.37855271680658, 'y': -60.82564451658715},\n",
       " 'scaling': 0.8334151762422278}"
      ]
     },
     "execution_count": 50,
     "metadata": {},
     "output_type": "execute_result"
    }
   ],
   "source": [
    "file['teste']"
   ]
  },
  {
   "cell_type": "code",
   "execution_count": null,
   "id": "72893316-26a6-4801-ab4e-5e0739273867",
   "metadata": {},
   "outputs": [],
   "source": []
  }
 ],
 "metadata": {
  "kernelspec": {
   "display_name": "venv-st",
   "language": "python",
   "name": "venv-st"
  },
  "language_info": {
   "codemirror_mode": {
    "name": "ipython",
    "version": 3
   },
   "file_extension": ".py",
   "mimetype": "text/x-python",
   "name": "python",
   "nbconvert_exporter": "python",
   "pygments_lexer": "ipython3",
   "version": "3.10.12"
  },
  "widgets": {
   "application/vnd.jupyter.widget-state+json": {
    "state": {},
    "version_major": 2,
    "version_minor": 0
   }
  }
 },
 "nbformat": 4,
 "nbformat_minor": 5
}
