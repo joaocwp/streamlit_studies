{
 "cells": [
  {
   "cell_type": "code",
   "execution_count": 1,
   "id": "8bdd8677-5ccf-4031-adca-556d28f252fb",
   "metadata": {
    "execution": {
     "iopub.execute_input": "2024-07-20T02:03:09.811820Z",
     "iopub.status.busy": "2024-07-20T02:03:09.811128Z",
     "iopub.status.idle": "2024-07-20T02:03:09.850758Z",
     "shell.execute_reply": "2024-07-20T02:03:09.849831Z",
     "shell.execute_reply.started": "2024-07-20T02:03:09.811760Z"
    }
   },
   "outputs": [],
   "source": [
    "%load_ext autoreload\n",
    "%autoreload 2"
   ]
  },
  {
   "cell_type": "code",
   "execution_count": 2,
   "id": "cdc19339-46c3-4db4-a468-f707047b56ac",
   "metadata": {
    "execution": {
     "iopub.execute_input": "2024-07-20T02:03:09.854715Z",
     "iopub.status.busy": "2024-07-20T02:03:09.853696Z",
     "iopub.status.idle": "2024-07-20T02:03:10.321518Z",
     "shell.execute_reply": "2024-07-20T02:03:10.320636Z",
     "shell.execute_reply.started": "2024-07-20T02:03:09.854646Z"
    }
   },
   "outputs": [],
   "source": [
    "import pandas as pd\n",
    "import numpy as np\n",
    "import joblib"
   ]
  },
  {
   "cell_type": "markdown",
   "id": "8a77d390-71af-43e2-996e-8b6cd59328b6",
   "metadata": {},
   "source": [
    "# Compute engine stand alone"
   ]
  },
  {
   "cell_type": "code",
   "execution_count": 21,
   "id": "0b92c66b-0a5d-4513-8b63-4f0d4abc0e75",
   "metadata": {
    "execution": {
     "iopub.execute_input": "2024-07-20T02:14:27.384485Z",
     "iopub.status.busy": "2024-07-20T02:14:27.383449Z",
     "iopub.status.idle": "2024-07-20T02:14:27.418671Z",
     "shell.execute_reply": "2024-07-20T02:14:27.417492Z",
     "shell.execute_reply.started": "2024-07-20T02:14:27.384406Z"
    }
   },
   "outputs": [],
   "source": [
    "file = joblib.load('schemas.barfi')"
   ]
  },
  {
   "cell_type": "code",
   "execution_count": 22,
   "id": "ac8ecd92-27b2-454c-bac2-6f2988470cf4",
   "metadata": {
    "execution": {
     "iopub.execute_input": "2024-07-20T02:14:27.667482Z",
     "iopub.status.busy": "2024-07-20T02:14:27.666907Z",
     "iopub.status.idle": "2024-07-20T02:14:27.694076Z",
     "shell.execute_reply": "2024-07-20T02:14:27.692200Z",
     "shell.execute_reply.started": "2024-07-20T02:14:27.667441Z"
    }
   },
   "outputs": [],
   "source": [
    "from_client = joblib.load('_from_client.pkl')"
   ]
  },
  {
   "cell_type": "code",
   "execution_count": 23,
   "id": "9ef5deff-1543-4d9b-9a51-12ce5c4c3f4f",
   "metadata": {
    "execution": {
     "iopub.execute_input": "2024-07-20T02:14:27.887408Z",
     "iopub.status.busy": "2024-07-20T02:14:27.886644Z",
     "iopub.status.idle": "2024-07-20T02:14:27.918631Z",
     "shell.execute_reply": "2024-07-20T02:14:27.917342Z",
     "shell.execute_reply.started": "2024-07-20T02:14:27.887348Z"
    }
   },
   "outputs": [
    {
     "name": "stdout",
     "output_type": "stream",
     "text": [
      "starting blocks\n",
      "colums: RangeIndex(start=0, stop=0, step=1)\n"
     ]
    }
   ],
   "source": [
    "from blocks import init\n",
    "from streamlit import session_state as session\n",
    "session.dados = pd.DataFrame()\n",
    "init()"
   ]
  },
  {
   "cell_type": "code",
   "execution_count": 24,
   "id": "30c78da9-c989-4097-bd46-725aa99834d2",
   "metadata": {
    "execution": {
     "iopub.execute_input": "2024-07-20T02:14:28.534563Z",
     "iopub.status.busy": "2024-07-20T02:14:28.533006Z",
     "iopub.status.idle": "2024-07-20T02:14:28.576009Z",
     "shell.execute_reply": "2024-07-20T02:14:28.573809Z",
     "shell.execute_reply.started": "2024-07-20T02:14:28.534480Z"
    }
   },
   "outputs": [],
   "source": [
    "from Barfi import ComputeEngine\n",
    "\n",
    "def get_execution(fluxo, base_blocks_list):\n",
    "    _ce = ComputeEngine(blocks=base_blocks_list)\n",
    "    _ce.add_editor_state(fluxo)\n",
    "    _ce._map_block_link()\n",
    "    _ce._execute_compute()"
   ]
  },
  {
   "cell_type": "code",
   "execution_count": 25,
   "id": "7793d527-6d69-4361-999d-f8c4fe15b365",
   "metadata": {
    "execution": {
     "iopub.execute_input": "2024-07-20T02:14:29.385317Z",
     "iopub.status.busy": "2024-07-20T02:14:29.383910Z",
     "iopub.status.idle": "2024-07-20T02:14:29.412656Z",
     "shell.execute_reply": "2024-07-20T02:14:29.409558Z",
     "shell.execute_reply.started": "2024-07-20T02:14:29.385257Z"
    }
   },
   "outputs": [
    {
     "name": "stdout",
     "output_type": "stream",
     "text": [
      "Resultado: 3\n"
     ]
    }
   ],
   "source": [
    "get_execution(file['soma3'], session.blocks)"
   ]
  },
  {
   "cell_type": "markdown",
   "id": "27dbe5ef-1697-4651-9bf6-dcbb22823002",
   "metadata": {},
   "source": [
    "# Entrada block"
   ]
  },
  {
   "cell_type": "code",
   "execution_count": 26,
   "id": "679ee950-c950-48c0-9b68-c90bba5ce454",
   "metadata": {
    "execution": {
     "iopub.execute_input": "2024-07-20T02:14:31.258165Z",
     "iopub.status.busy": "2024-07-20T02:14:31.257218Z",
     "iopub.status.idle": "2024-07-20T02:14:31.294324Z",
     "shell.execute_reply": "2024-07-20T02:14:31.292821Z",
     "shell.execute_reply.started": "2024-07-20T02:14:31.258093Z"
    }
   },
   "outputs": [],
   "source": [
    "file = joblib.load('schemas.barfi')\n",
    "entr = file['entradas']"
   ]
  },
  {
   "cell_type": "code",
   "execution_count": 27,
   "id": "62d68cdc-4251-42fc-87f9-959561e225cb",
   "metadata": {
    "execution": {
     "iopub.execute_input": "2024-07-20T02:14:32.029745Z",
     "iopub.status.busy": "2024-07-20T02:14:32.029077Z",
     "iopub.status.idle": "2024-07-20T02:14:32.058964Z",
     "shell.execute_reply": "2024-07-20T02:14:32.056695Z",
     "shell.execute_reply.started": "2024-07-20T02:14:32.029701Z"
    }
   },
   "outputs": [
    {
     "name": "stdout",
     "output_type": "stream",
     "text": [
      "nome: entrada-1 valor: 1\n",
      "nome: entrada-2 valor: 2\n",
      "Resultado: 3\n"
     ]
    }
   ],
   "source": [
    "get_execution(entr, session.blocks)"
   ]
  },
  {
   "cell_type": "code",
   "execution_count": 28,
   "id": "c1387283-256a-4329-933d-9cd2f94de97b",
   "metadata": {
    "execution": {
     "iopub.execute_input": "2024-07-20T02:14:33.636709Z",
     "iopub.status.busy": "2024-07-20T02:14:33.635837Z",
     "iopub.status.idle": "2024-07-20T02:14:33.670566Z",
     "shell.execute_reply": "2024-07-20T02:14:33.669437Z",
     "shell.execute_reply.started": "2024-07-20T02:14:33.636637Z"
    }
   },
   "outputs": [],
   "source": [
    "saidas = [i for i in entr['nodes'] if i['type'] == 'saida']\n",
    "saida_names = [i['name'] for i in saidas]\n",
    "entradas = [i for i in entr['nodes'] if i['type'] == 'entrada']\n",
    "entrada_names = [i['name'] for i in entradas]"
   ]
  },
  {
   "cell_type": "code",
   "execution_count": 29,
   "id": "57aba1ff-6826-43ae-a013-efae4a92b278",
   "metadata": {
    "execution": {
     "iopub.execute_input": "2024-07-20T02:14:34.410473Z",
     "iopub.status.busy": "2024-07-20T02:14:34.409673Z",
     "iopub.status.idle": "2024-07-20T02:14:34.446870Z",
     "shell.execute_reply": "2024-07-20T02:14:34.444883Z",
     "shell.execute_reply.started": "2024-07-20T02:14:34.410417Z"
    }
   },
   "outputs": [],
   "source": [
    "def get_dict_from_interfaces(interface):\n",
    "    aux = {}\n",
    "    for i in interface:\n",
    "        aux[i[0]] = i[1]\n",
    "    return aux\n",
    "\n",
    "def encode_dict_to_interface(aux_dict):\n",
    "    interface = [[key, aux_dict[key]] for key in aux_dict]\n",
    "    return interface\n",
    "\n",
    "def encode_val_to_entradas(entra, val_dict):\n",
    "    aux = entra.copy()\n",
    "    for entrada in aux:\n",
    "        name = entrada['name']\n",
    "        tmp = get_dict_from_interfaces(entrada['interfaces'])\n",
    "        tmp['entrada']['value'] = val_dict[name]\n",
    "        encoded_interface = encode_dict_to_interface(tmp)\n",
    "        entrada['interfaces'] = encoded_interface\n",
    "    return aux\n",
    "\n",
    "def get_ids_entradas(entradas):\n",
    "    aux = entradas.copy()\n",
    "    ids = []\n",
    "    for entrada in aux:\n",
    "        tmp = get_dict_from_interfaces(entrada['interfaces'])\n",
    "        ids.append(tmp['entrada']['id'])\n",
    "    return ids\n",
    "\n",
    "def get_ids_from_conn(connections, to_ids):\n",
    "    aux = connections.copy()\n",
    "    entry_dict = {}\n",
    "    ids = []\n",
    "    ids_from = []\n",
    "    pos = []\n",
    "    for i, conn in enumerate(connections):\n",
    "        if conn['to'] in to_ids:\n",
    "            entry_dict[i] = {'id': conn['id'],\n",
    "                             'from': conn['from'],\n",
    "                             'to': conn['to']}\n",
    "    return entry_dict"
   ]
  },
  {
   "cell_type": "code",
   "execution_count": 30,
   "id": "bfecce41-55fe-4776-810f-7790adead3ca",
   "metadata": {
    "execution": {
     "iopub.execute_input": "2024-07-20T02:14:39.271207Z",
     "iopub.status.busy": "2024-07-20T02:14:39.270608Z",
     "iopub.status.idle": "2024-07-20T02:14:39.305689Z",
     "shell.execute_reply": "2024-07-20T02:14:39.304091Z",
     "shell.execute_reply.started": "2024-07-20T02:14:39.271156Z"
    }
   },
   "outputs": [],
   "source": [
    "val_dict = {'entrada-1': 2, 'entrada-2': 3}\n",
    "tmp = entradas.copy()\n",
    "new_entr = encode_val_to_entradas(tmp, val_dict)"
   ]
  },
  {
   "cell_type": "code",
   "execution_count": 31,
   "id": "96be67af-0540-457c-83f7-4f9c5da25857",
   "metadata": {
    "execution": {
     "iopub.execute_input": "2024-07-20T02:14:40.279520Z",
     "iopub.status.busy": "2024-07-20T02:14:40.278819Z",
     "iopub.status.idle": "2024-07-20T02:14:40.305761Z",
     "shell.execute_reply": "2024-07-20T02:14:40.304684Z",
     "shell.execute_reply.started": "2024-07-20T02:14:40.279476Z"
    }
   },
   "outputs": [],
   "source": [
    "ids_entradas = get_ids_entradas(entradas)\n",
    "entry_conn = get_ids_from_conn(entr['connections'], ids_entradas)"
   ]
  },
  {
   "cell_type": "markdown",
   "id": "2e2a2e53-e59b-4177-97e0-a486039f93e6",
   "metadata": {},
   "source": [
    "## Antes de cortar conn:"
   ]
  },
  {
   "cell_type": "code",
   "execution_count": 32,
   "id": "6c990180-6128-45b9-8007-72d8c067cfbb",
   "metadata": {
    "execution": {
     "iopub.execute_input": "2024-07-20T02:14:42.000245Z",
     "iopub.status.busy": "2024-07-20T02:14:41.999598Z",
     "iopub.status.idle": "2024-07-20T02:14:42.034405Z",
     "shell.execute_reply": "2024-07-20T02:14:42.032915Z",
     "shell.execute_reply.started": "2024-07-20T02:14:42.000192Z"
    }
   },
   "outputs": [
    {
     "name": "stdout",
     "output_type": "stream",
     "text": [
      "nome: entrada-1 valor: 1\n",
      "nome: entrada-2 valor: 2\n",
      "Resultado: 3\n"
     ]
    }
   ],
   "source": [
    "get_execution(entr, session.blocks)"
   ]
  },
  {
   "cell_type": "markdown",
   "id": "eb066151-806b-4ee4-b292-ba3b2d05b72b",
   "metadata": {
    "execution": {
     "iopub.execute_input": "2024-07-20T01:48:18.592594Z",
     "iopub.status.busy": "2024-07-20T01:48:18.591779Z",
     "iopub.status.idle": "2024-07-20T01:48:18.608320Z",
     "shell.execute_reply": "2024-07-20T01:48:18.606694Z",
     "shell.execute_reply.started": "2024-07-20T01:48:18.592536Z"
    }
   },
   "source": [
    "## Pos cortar conn"
   ]
  },
  {
   "cell_type": "code",
   "execution_count": 40,
   "id": "d9634899-e5cc-4ffb-8a63-6411b8e86bef",
   "metadata": {
    "execution": {
     "iopub.execute_input": "2024-07-20T02:17:19.772061Z",
     "iopub.status.busy": "2024-07-20T02:17:19.771147Z",
     "iopub.status.idle": "2024-07-20T02:17:19.799191Z",
     "shell.execute_reply": "2024-07-20T02:17:19.798310Z",
     "shell.execute_reply.started": "2024-07-20T02:17:19.771993Z"
    }
   },
   "outputs": [],
   "source": [
    "new_entr = entr.copy()\n",
    "pos_list = [i for i in entry_conn.keys()]\n",
    "pos_list.sort()\n",
    "pos_list = pos_list[::-1]\n",
    "for i in pos_list:\n",
    "    new_entr['connections'].pop(i)"
   ]
  },
  {
   "cell_type": "code",
   "execution_count": 41,
   "id": "29e0d6a5-fdfd-43a5-9f29-99c99edcc709",
   "metadata": {
    "execution": {
     "iopub.execute_input": "2024-07-20T02:17:20.761007Z",
     "iopub.status.busy": "2024-07-20T02:17:20.759431Z",
     "iopub.status.idle": "2024-07-20T02:17:20.790875Z",
     "shell.execute_reply": "2024-07-20T02:17:20.789328Z",
     "shell.execute_reply.started": "2024-07-20T02:17:20.760923Z"
    }
   },
   "outputs": [
    {
     "name": "stdout",
     "output_type": "stream",
     "text": [
      "nome: entrada-1 valor: 1\n",
      "nome: entrada-2 valor: 1\n",
      "Resultado: 2\n"
     ]
    }
   ],
   "source": [
    "get_execution(new_entr, session.blocks)"
   ]
  },
  {
   "cell_type": "code",
   "execution_count": 42,
   "id": "10f198e2-3d68-4244-b28e-e9747437a248",
   "metadata": {
    "execution": {
     "iopub.execute_input": "2024-07-20T02:17:24.504216Z",
     "iopub.status.busy": "2024-07-20T02:17:24.503189Z",
     "iopub.status.idle": "2024-07-20T02:17:24.540495Z",
     "shell.execute_reply": "2024-07-20T02:17:24.538997Z",
     "shell.execute_reply.started": "2024-07-20T02:17:24.504146Z"
    }
   },
   "outputs": [
    {
     "name": "stdout",
     "output_type": "stream",
     "text": [
      "nome: entrada-1 valor: 1\n",
      "nome: entrada-2 valor: 1\n",
      "Resultado: 2\n"
     ]
    }
   ],
   "source": [
    "get_execution(entr, session.blocks)"
   ]
  },
  {
   "cell_type": "code",
   "execution_count": 49,
   "id": "4d2a35cb-5a04-461a-bbb6-a7691631f577",
   "metadata": {
    "execution": {
     "iopub.execute_input": "2024-07-20T02:19:28.327781Z",
     "iopub.status.busy": "2024-07-20T02:19:28.326993Z",
     "iopub.status.idle": "2024-07-20T02:19:28.368609Z",
     "shell.execute_reply": "2024-07-20T02:19:28.366931Z",
     "shell.execute_reply.started": "2024-07-20T02:19:28.327724Z"
    }
   },
   "outputs": [
    {
     "data": {
      "text/plain": [
       "2"
      ]
     },
     "execution_count": 49,
     "metadata": {},
     "output_type": "execute_result"
    }
   ],
   "source": [
    "new_entr['nodes'][2]['interfaces'][0][1]['value']"
   ]
  }
 ],
 "metadata": {
  "kernelspec": {
   "display_name": "venv-st",
   "language": "python",
   "name": "venv-st"
  },
  "language_info": {
   "codemirror_mode": {
    "name": "ipython",
    "version": 3
   },
   "file_extension": ".py",
   "mimetype": "text/x-python",
   "name": "python",
   "nbconvert_exporter": "python",
   "pygments_lexer": "ipython3",
   "version": "3.10.12"
  },
  "widgets": {
   "application/vnd.jupyter.widget-state+json": {
    "state": {},
    "version_major": 2,
    "version_minor": 0
   }
  }
 },
 "nbformat": 4,
 "nbformat_minor": 5
}
