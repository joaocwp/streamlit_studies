{
 "cells": [
  {
   "cell_type": "code",
   "execution_count": 2,
   "id": "8bdd8677-5ccf-4031-adca-556d28f252fb",
   "metadata": {
    "execution": {
     "iopub.execute_input": "2024-07-20T23:56:19.308083Z",
     "iopub.status.busy": "2024-07-20T23:56:19.306983Z",
     "iopub.status.idle": "2024-07-20T23:56:19.332156Z",
     "shell.execute_reply": "2024-07-20T23:56:19.330656Z",
     "shell.execute_reply.started": "2024-07-20T23:56:19.308019Z"
    }
   },
   "outputs": [],
   "source": [
    "%load_ext autoreload\n",
    "%autoreload 2"
   ]
  },
  {
   "cell_type": "markdown",
   "id": "8a77d390-71af-43e2-996e-8b6cd59328b6",
   "metadata": {},
   "source": [
    "# Compute engine stand alone"
   ]
  },
  {
   "cell_type": "code",
   "execution_count": 153,
   "id": "0b92c66b-0a5d-4513-8b63-4f0d4abc0e75",
   "metadata": {
    "execution": {
     "iopub.execute_input": "2024-07-21T11:44:44.859141Z",
     "iopub.status.busy": "2024-07-21T11:44:44.858401Z",
     "iopub.status.idle": "2024-07-21T11:44:44.888488Z",
     "shell.execute_reply": "2024-07-21T11:44:44.886970Z",
     "shell.execute_reply.started": "2024-07-21T11:44:44.859084Z"
    }
   },
   "outputs": [],
   "source": [
    "file = joblib.load('schemas.barfi')"
   ]
  },
  {
   "cell_type": "code",
   "execution_count": 154,
   "id": "ac8ecd92-27b2-454c-bac2-6f2988470cf4",
   "metadata": {
    "execution": {
     "iopub.execute_input": "2024-07-21T11:44:47.564047Z",
     "iopub.status.busy": "2024-07-21T11:44:47.563296Z",
     "iopub.status.idle": "2024-07-21T11:44:47.598604Z",
     "shell.execute_reply": "2024-07-21T11:44:47.597371Z",
     "shell.execute_reply.started": "2024-07-21T11:44:47.563992Z"
    }
   },
   "outputs": [],
   "source": [
    "from_client = joblib.load('_from_client.pkl')"
   ]
  },
  {
   "cell_type": "code",
   "execution_count": 155,
   "id": "9ef5deff-1543-4d9b-9a51-12ce5c4c3f4f",
   "metadata": {
    "execution": {
     "iopub.execute_input": "2024-07-21T11:44:47.961426Z",
     "iopub.status.busy": "2024-07-21T11:44:47.959507Z",
     "iopub.status.idle": "2024-07-21T11:44:48.316117Z",
     "shell.execute_reply": "2024-07-21T11:44:48.315186Z",
     "shell.execute_reply.started": "2024-07-21T11:44:47.961344Z"
    }
   },
   "outputs": [
    {
     "name": "stderr",
     "output_type": "stream",
     "text": [
      "2024-07-21 08:44:48.305 WARNING streamlit.runtime.state.session_state_proxy: Session state does not function when running a script without `streamlit run`\n"
     ]
    },
    {
     "name": "stdout",
     "output_type": "stream",
     "text": [
      "import blocks\n",
      "starting blocks\n"
     ]
    }
   ],
   "source": [
    "from blocks import init\n",
    "from streamlit import session_state as session\n",
    "session.dados = pd.DataFrame()\n",
    "init()"
   ]
  },
  {
   "cell_type": "code",
   "execution_count": 156,
   "id": "30c78da9-c989-4097-bd46-725aa99834d2",
   "metadata": {
    "execution": {
     "iopub.execute_input": "2024-07-21T11:44:50.363187Z",
     "iopub.status.busy": "2024-07-21T11:44:50.362411Z",
     "iopub.status.idle": "2024-07-21T11:44:50.401181Z",
     "shell.execute_reply": "2024-07-21T11:44:50.399947Z",
     "shell.execute_reply.started": "2024-07-21T11:44:50.363139Z"
    }
   },
   "outputs": [],
   "source": [
    "from Barfi import ComputeEngine\n",
    "\n",
    "def get_execution(fluxo, base_blocks_list):\n",
    "    _ce = ComputeEngine(blocks=base_blocks_list)\n",
    "    _ce.add_editor_state(fluxo)\n",
    "    _ce._map_block_link()\n",
    "    _ce._execute_compute()"
   ]
  },
  {
   "cell_type": "code",
   "execution_count": 157,
   "id": "7793d527-6d69-4361-999d-f8c4fe15b365",
   "metadata": {
    "execution": {
     "iopub.execute_input": "2024-07-21T11:44:50.822972Z",
     "iopub.status.busy": "2024-07-21T11:44:50.822366Z",
     "iopub.status.idle": "2024-07-21T11:44:50.856163Z",
     "shell.execute_reply": "2024-07-21T11:44:50.854792Z",
     "shell.execute_reply.started": "2024-07-21T11:44:50.822919Z"
    }
   },
   "outputs": [
    {
     "name": "stdout",
     "output_type": "stream",
     "text": [
      "Resultado: 3\n"
     ]
    }
   ],
   "source": [
    "get_execution(file['soma3'], session.blocks)"
   ]
  },
  {
   "cell_type": "code",
   "execution_count": 161,
   "id": "4515299a-3d40-4c87-8a06-87f264f504a2",
   "metadata": {
    "execution": {
     "iopub.execute_input": "2024-07-21T11:45:25.909563Z",
     "iopub.status.busy": "2024-07-21T11:45:25.908759Z",
     "iopub.status.idle": "2024-07-21T11:45:25.949070Z",
     "shell.execute_reply": "2024-07-21T11:45:25.947807Z",
     "shell.execute_reply.started": "2024-07-21T11:45:25.909387Z"
    }
   },
   "outputs": [
    {
     "data": {
      "text/plain": [
       "['blocks.pkl']"
      ]
     },
     "execution_count": 161,
     "metadata": {},
     "output_type": "execute_result"
    }
   ],
   "source": [
    "joblib.dump(session['blocks'], 'blocks.pkl')"
   ]
  },
  {
   "cell_type": "markdown",
   "id": "27dbe5ef-1697-4651-9bf6-dcbb22823002",
   "metadata": {},
   "source": [
    "# Entrada block"
   ]
  },
  {
   "cell_type": "code",
   "execution_count": 162,
   "id": "679ee950-c950-48c0-9b68-c90bba5ce454",
   "metadata": {
    "execution": {
     "iopub.execute_input": "2024-07-21T11:45:39.077831Z",
     "iopub.status.busy": "2024-07-21T11:45:39.077361Z",
     "iopub.status.idle": "2024-07-21T11:45:39.113569Z",
     "shell.execute_reply": "2024-07-21T11:45:39.112149Z",
     "shell.execute_reply.started": "2024-07-21T11:45:39.077776Z"
    }
   },
   "outputs": [],
   "source": [
    "file = joblib.load('schemas.barfi')\n",
    "entr = file['entradas']"
   ]
  },
  {
   "cell_type": "code",
   "execution_count": 164,
   "id": "62d68cdc-4251-42fc-87f9-959561e225cb",
   "metadata": {
    "execution": {
     "iopub.execute_input": "2024-07-21T11:46:23.991904Z",
     "iopub.status.busy": "2024-07-21T11:46:23.991275Z",
     "iopub.status.idle": "2024-07-21T11:46:24.025078Z",
     "shell.execute_reply": "2024-07-21T11:46:24.023679Z",
     "shell.execute_reply.started": "2024-07-21T11:46:23.991844Z"
    }
   },
   "outputs": [
    {
     "name": "stdout",
     "output_type": "stream",
     "text": [
      "nome: entrada-1 valor: 1\n",
      "nome: entrada-2 valor: 2\n",
      "Resultado: 3\n"
     ]
    }
   ],
   "source": [
    "get_execution(entr, session.blocks)"
   ]
  },
  {
   "cell_type": "code",
   "execution_count": 165,
   "id": "57aba1ff-6826-43ae-a013-efae4a92b278",
   "metadata": {
    "execution": {
     "iopub.execute_input": "2024-07-21T11:46:25.800735Z",
     "iopub.status.busy": "2024-07-21T11:46:25.800030Z",
     "iopub.status.idle": "2024-07-21T11:46:25.855345Z",
     "shell.execute_reply": "2024-07-21T11:46:25.853875Z",
     "shell.execute_reply.started": "2024-07-21T11:46:25.800677Z"
    }
   },
   "outputs": [],
   "source": [
    "def get_dict_from_interfaces(interface):\n",
    "    aux = {}\n",
    "    for i in interface:\n",
    "        aux[i[0]] = i[1]\n",
    "    return aux\n",
    "\n",
    "\n",
    "def encode_dict_to_interface(aux_dict):\n",
    "    interface = [[key, aux_dict[key]] for key in aux_dict]\n",
    "    return interface\n",
    "\n",
    "\n",
    "def encode_val_to_entradas(entra, val_dict):\n",
    "    aux = entra.copy()\n",
    "    for entrada in aux:\n",
    "        name = entrada['name']\n",
    "        tmp = get_dict_from_interfaces(entrada['interfaces'])\n",
    "        tmp['entrada']['value'] = val_dict[name]\n",
    "        encoded_interface = encode_dict_to_interface(tmp)\n",
    "        entrada['interfaces'] = encoded_interface\n",
    "    return aux\n",
    "\n",
    "def get_ids_entradas(entradas):\n",
    "    aux = entradas.copy()\n",
    "    ids = []\n",
    "    for entrada in aux:\n",
    "        tmp = get_dict_from_interfaces(entrada['interfaces'])\n",
    "        ids.append(tmp['entrada']['id'])\n",
    "    return ids\n",
    "\n",
    "\n",
    "def get_ids_from_conn(connections, to_ids):\n",
    "    aux = connections.copy()\n",
    "    entry_dict = {}\n",
    "    ids = []\n",
    "    ids_from = []\n",
    "    pos = []\n",
    "    for i, conn in enumerate(connections):\n",
    "        if conn['to'] in to_ids:\n",
    "            entry_dict[i] = {'id': conn['id'],\n",
    "                             'from': conn['from'],\n",
    "                             'to': conn['to']}\n",
    "    return entry_dict\n",
    "\n",
    "\n",
    "def encode_entradas_to_const(entra, val_dict):\n",
    "    aux = entra['nodes'].copy()\n",
    "    for entrada in aux:\n",
    "        name = entrada['name']\n",
    "        if name in val_dict:\n",
    "            entrada['type'] = 'constante'\n",
    "            entrada['options'] = [['valor', val_dict[name]]]\n",
    "            tmp = get_dict_from_interfaces(entrada['interfaces'])\n",
    "            del tmp['entrada']\n",
    "            encoded_interface = encode_dict_to_interface(tmp)\n",
    "            entrada['interfaces'] = encoded_interface\n",
    "\n",
    "\n",
    "def get_to_dict_from_conn(connection):\n",
    "    aux = {i['to']:i for i in connection}\n",
    "    return aux\n",
    "\n",
    "\n",
    "def encode_conn_from_dict(dict_conn):\n",
    "    return list(dict_conn.values())\n",
    "\n",
    "\n",
    "def delete_connections(fluxo, to_ids):\n",
    "    tmp = get_to_dict_from_conn(fluxo['connections'])\n",
    "    for i in to_ids:\n",
    "        try:\n",
    "            del tmp[i]\n",
    "        except:\n",
    "            pass\n",
    "    return tmp\n",
    "\n",
    "\n",
    "def get_entradas(fluxo):\n",
    "    entradas = [i for i in fluxo['nodes'] if i['type'] == 'entrada']\n",
    "    return entradas\n",
    "\n",
    "\n",
    "def get_fluxo_const(fluxo, val_dict):\n",
    "    aux_fluxo = deepcopy(fluxo)\n",
    "    saidas = [i for i in aux_fluxo['nodes'] if i['type'] == 'saida']\n",
    "    saida_names = [i['name'] for i in saidas]\n",
    "    entradas = [i for i in aux_fluxo['nodes'] if i['type'] == 'entrada']\n",
    "    entrada_names = [i['name'] for i in entradas]\n",
    "    ids_entradas = get_ids_entradas(entradas)\n",
    "    entry_conn = get_ids_from_conn(aux_fluxo['connections'], ids_entradas)\n",
    "    tmp = delete_connections(aux_fluxo, ids_entradas)\n",
    "    aux_fluxo['connections'] = encode_conn_from_dict(tmp)\n",
    "    encode_entradas_to_const(aux_fluxo, val_dict)\n",
    "    return aux_fluxo\n"
   ]
  },
  {
   "cell_type": "code",
   "execution_count": 166,
   "id": "bfecce41-55fe-4776-810f-7790adead3ca",
   "metadata": {
    "execution": {
     "iopub.execute_input": "2024-07-21T11:46:26.316495Z",
     "iopub.status.busy": "2024-07-21T11:46:26.315857Z",
     "iopub.status.idle": "2024-07-21T11:46:26.363992Z",
     "shell.execute_reply": "2024-07-21T11:46:26.362709Z",
     "shell.execute_reply.started": "2024-07-21T11:46:26.316438Z"
    }
   },
   "outputs": [],
   "source": [
    "val_dict = {'entrada-1': 2, 'entrada-2': 3}\n",
    "# tmp = entradas.copy()\n",
    "# new_entr = encode_val_to_entradas(tmp, val_dict)"
   ]
  },
  {
   "cell_type": "code",
   "execution_count": 167,
   "id": "57ee42a8-bb3f-4b84-8b7a-601063c2ae17",
   "metadata": {
    "execution": {
     "iopub.execute_input": "2024-07-21T11:46:27.000644Z",
     "iopub.status.busy": "2024-07-21T11:46:26.999619Z",
     "iopub.status.idle": "2024-07-21T11:46:27.035713Z",
     "shell.execute_reply": "2024-07-21T11:46:27.033777Z",
     "shell.execute_reply.started": "2024-07-21T11:46:27.000576Z"
    }
   },
   "outputs": [],
   "source": [
    "new = get_fluxo_const(entr, val_dict)"
   ]
  },
  {
   "cell_type": "code",
   "execution_count": 168,
   "id": "f4ca2049-f60c-4060-9255-f42b32137998",
   "metadata": {
    "execution": {
     "iopub.execute_input": "2024-07-21T11:46:27.608975Z",
     "iopub.status.busy": "2024-07-21T11:46:27.608420Z",
     "iopub.status.idle": "2024-07-21T11:46:27.635815Z",
     "shell.execute_reply": "2024-07-21T11:46:27.634805Z",
     "shell.execute_reply.started": "2024-07-21T11:46:27.608924Z"
    }
   },
   "outputs": [
    {
     "name": "stdout",
     "output_type": "stream",
     "text": [
      "nome: entrada-1 valor: 1\n",
      "nome: entrada-2 valor: 2\n",
      "Resultado: 3\n"
     ]
    }
   ],
   "source": [
    "get_execution(entr, session.blocks)"
   ]
  },
  {
   "cell_type": "code",
   "execution_count": 169,
   "id": "0871126a-3770-4ca4-9ebc-cebef9dd90f1",
   "metadata": {
    "execution": {
     "iopub.execute_input": "2024-07-21T11:46:28.169451Z",
     "iopub.status.busy": "2024-07-21T11:46:28.168582Z",
     "iopub.status.idle": "2024-07-21T11:46:28.207128Z",
     "shell.execute_reply": "2024-07-21T11:46:28.205615Z",
     "shell.execute_reply.started": "2024-07-21T11:46:28.169381Z"
    }
   },
   "outputs": [
    {
     "name": "stdout",
     "output_type": "stream",
     "text": [
      "Resultado: 5\n"
     ]
    }
   ],
   "source": [
    "get_execution(new, session.blocks)"
   ]
  },
  {
   "cell_type": "code",
   "execution_count": 170,
   "id": "ead20902-a7a6-4f0e-bb9f-713b7a333efd",
   "metadata": {
    "execution": {
     "iopub.execute_input": "2024-07-21T11:46:28.857748Z",
     "iopub.status.busy": "2024-07-21T11:46:28.857053Z",
     "iopub.status.idle": "2024-07-21T11:46:28.891518Z",
     "shell.execute_reply": "2024-07-21T11:46:28.890069Z",
     "shell.execute_reply.started": "2024-07-21T11:46:28.857696Z"
    }
   },
   "outputs": [
    {
     "data": {
      "text/plain": [
       "{'nodes': [],\n",
       " 'connections': [],\n",
       " 'panning': {'x': 36.37855271680658, 'y': -60.82564451658715},\n",
       " 'scaling': 0.8334151762422278}"
      ]
     },
     "execution_count": 170,
     "metadata": {},
     "output_type": "execute_result"
    }
   ],
   "source": [
    "file['teste']"
   ]
  },
  {
   "cell_type": "code",
   "execution_count": null,
   "id": "72893316-26a6-4801-ab4e-5e0739273867",
   "metadata": {},
   "outputs": [],
   "source": []
  }
 ],
 "metadata": {
  "kernelspec": {
   "display_name": "venv-st",
   "language": "python",
   "name": "venv-st"
  },
  "language_info": {
   "codemirror_mode": {
    "name": "ipython",
    "version": 3
   },
   "file_extension": ".py",
   "mimetype": "text/x-python",
   "name": "python",
   "nbconvert_exporter": "python",
   "pygments_lexer": "ipython3",
   "version": "3.10.12"
  },
  "widgets": {
   "application/vnd.jupyter.widget-state+json": {
    "state": {},
    "version_major": 2,
    "version_minor": 0
   }
  }
 },
 "nbformat": 4,
 "nbformat_minor": 5
}
