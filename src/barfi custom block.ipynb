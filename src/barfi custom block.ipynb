{
 "cells": [
  {
   "cell_type": "code",
   "execution_count": 89,
   "id": "8bdd8677-5ccf-4031-adca-556d28f252fb",
   "metadata": {
    "execution": {
     "iopub.execute_input": "2024-07-20T20:06:24.404180Z",
     "iopub.status.busy": "2024-07-20T20:06:24.403378Z",
     "iopub.status.idle": "2024-07-20T20:06:24.448808Z",
     "shell.execute_reply": "2024-07-20T20:06:24.446724Z",
     "shell.execute_reply.started": "2024-07-20T20:06:24.404116Z"
    }
   },
   "outputs": [
    {
     "name": "stdout",
     "output_type": "stream",
     "text": [
      "The autoreload extension is already loaded. To reload it, use:\n",
      "  %reload_ext autoreload\n"
     ]
    }
   ],
   "source": [
    "%load_ext autoreload\n",
    "%autoreload 2"
   ]
  },
  {
   "cell_type": "code",
   "execution_count": 90,
   "id": "cdc19339-46c3-4db4-a468-f707047b56ac",
   "metadata": {
    "execution": {
     "iopub.execute_input": "2024-07-20T20:06:24.590920Z",
     "iopub.status.busy": "2024-07-20T20:06:24.590400Z",
     "iopub.status.idle": "2024-07-20T20:06:24.609491Z",
     "shell.execute_reply": "2024-07-20T20:06:24.608692Z",
     "shell.execute_reply.started": "2024-07-20T20:06:24.590883Z"
    }
   },
   "outputs": [],
   "source": [
    "import pandas as pd\n",
    "import numpy as np\n",
    "import joblib"
   ]
  },
  {
   "cell_type": "markdown",
   "id": "8a77d390-71af-43e2-996e-8b6cd59328b6",
   "metadata": {},
   "source": [
    "# Compute engine stand alone"
   ]
  },
  {
   "cell_type": "code",
   "execution_count": 91,
   "id": "0b92c66b-0a5d-4513-8b63-4f0d4abc0e75",
   "metadata": {
    "execution": {
     "iopub.execute_input": "2024-07-20T20:06:24.906416Z",
     "iopub.status.busy": "2024-07-20T20:06:24.905423Z",
     "iopub.status.idle": "2024-07-20T20:06:24.944373Z",
     "shell.execute_reply": "2024-07-20T20:06:24.942875Z",
     "shell.execute_reply.started": "2024-07-20T20:06:24.906322Z"
    }
   },
   "outputs": [],
   "source": [
    "file = joblib.load('schemas.barfi')"
   ]
  },
  {
   "cell_type": "code",
   "execution_count": 92,
   "id": "ac8ecd92-27b2-454c-bac2-6f2988470cf4",
   "metadata": {
    "execution": {
     "iopub.execute_input": "2024-07-20T20:06:25.051568Z",
     "iopub.status.busy": "2024-07-20T20:06:25.050547Z",
     "iopub.status.idle": "2024-07-20T20:06:25.086631Z",
     "shell.execute_reply": "2024-07-20T20:06:25.085102Z",
     "shell.execute_reply.started": "2024-07-20T20:06:25.051508Z"
    }
   },
   "outputs": [],
   "source": [
    "from_client = joblib.load('_from_client.pkl')"
   ]
  },
  {
   "cell_type": "code",
   "execution_count": 93,
   "id": "9ef5deff-1543-4d9b-9a51-12ce5c4c3f4f",
   "metadata": {
    "execution": {
     "iopub.execute_input": "2024-07-20T20:06:25.200661Z",
     "iopub.status.busy": "2024-07-20T20:06:25.199791Z",
     "iopub.status.idle": "2024-07-20T20:06:25.241946Z",
     "shell.execute_reply": "2024-07-20T20:06:25.240395Z",
     "shell.execute_reply.started": "2024-07-20T20:06:25.200596Z"
    }
   },
   "outputs": [
    {
     "name": "stdout",
     "output_type": "stream",
     "text": [
      "starting blocks\n",
      "colums: RangeIndex(start=0, stop=0, step=1)\n"
     ]
    }
   ],
   "source": [
    "from blocks import init\n",
    "from streamlit import session_state as session\n",
    "session.dados = pd.DataFrame()\n",
    "init()"
   ]
  },
  {
   "cell_type": "code",
   "execution_count": 94,
   "id": "30c78da9-c989-4097-bd46-725aa99834d2",
   "metadata": {
    "execution": {
     "iopub.execute_input": "2024-07-20T20:06:25.569042Z",
     "iopub.status.busy": "2024-07-20T20:06:25.568514Z",
     "iopub.status.idle": "2024-07-20T20:06:25.617272Z",
     "shell.execute_reply": "2024-07-20T20:06:25.615794Z",
     "shell.execute_reply.started": "2024-07-20T20:06:25.569006Z"
    }
   },
   "outputs": [],
   "source": [
    "from Barfi import ComputeEngine\n",
    "\n",
    "def get_execution(fluxo, base_blocks_list):\n",
    "    _ce = ComputeEngine(blocks=base_blocks_list)\n",
    "    _ce.add_editor_state(fluxo)\n",
    "    _ce._map_block_link()\n",
    "    _ce._execute_compute()"
   ]
  },
  {
   "cell_type": "code",
   "execution_count": 95,
   "id": "7793d527-6d69-4361-999d-f8c4fe15b365",
   "metadata": {
    "execution": {
     "iopub.execute_input": "2024-07-20T20:06:25.894252Z",
     "iopub.status.busy": "2024-07-20T20:06:25.892815Z",
     "iopub.status.idle": "2024-07-20T20:06:25.930964Z",
     "shell.execute_reply": "2024-07-20T20:06:25.929561Z",
     "shell.execute_reply.started": "2024-07-20T20:06:25.894152Z"
    }
   },
   "outputs": [
    {
     "name": "stdout",
     "output_type": "stream",
     "text": [
      "Resultado: 3\n"
     ]
    }
   ],
   "source": [
    "get_execution(file['soma3'], session.blocks)"
   ]
  },
  {
   "cell_type": "markdown",
   "id": "27dbe5ef-1697-4651-9bf6-dcbb22823002",
   "metadata": {},
   "source": [
    "# Entrada block"
   ]
  },
  {
   "cell_type": "code",
   "execution_count": 241,
   "id": "679ee950-c950-48c0-9b68-c90bba5ce454",
   "metadata": {
    "execution": {
     "iopub.execute_input": "2024-07-20T20:36:18.473795Z",
     "iopub.status.busy": "2024-07-20T20:36:18.472650Z",
     "iopub.status.idle": "2024-07-20T20:36:18.519166Z",
     "shell.execute_reply": "2024-07-20T20:36:18.517188Z",
     "shell.execute_reply.started": "2024-07-20T20:36:18.473673Z"
    }
   },
   "outputs": [],
   "source": [
    "file = joblib.load('schemas.barfi')\n",
    "entr = file['entradas']"
   ]
  },
  {
   "cell_type": "code",
   "execution_count": 242,
   "id": "62d68cdc-4251-42fc-87f9-959561e225cb",
   "metadata": {
    "execution": {
     "iopub.execute_input": "2024-07-20T20:36:18.667106Z",
     "iopub.status.busy": "2024-07-20T20:36:18.666457Z",
     "iopub.status.idle": "2024-07-20T20:36:18.689647Z",
     "shell.execute_reply": "2024-07-20T20:36:18.688467Z",
     "shell.execute_reply.started": "2024-07-20T20:36:18.667060Z"
    }
   },
   "outputs": [
    {
     "name": "stdout",
     "output_type": "stream",
     "text": [
      "nome: entrada-1 valor: 1\n",
      "nome: entrada-2 valor: 2\n",
      "Resultado: 3\n"
     ]
    }
   ],
   "source": [
    "get_execution(entr, session.blocks)"
   ]
  },
  {
   "cell_type": "code",
   "execution_count": 243,
   "id": "57aba1ff-6826-43ae-a013-efae4a92b278",
   "metadata": {
    "execution": {
     "iopub.execute_input": "2024-07-20T20:36:21.092504Z",
     "iopub.status.busy": "2024-07-20T20:36:21.091942Z",
     "iopub.status.idle": "2024-07-20T20:36:21.131978Z",
     "shell.execute_reply": "2024-07-20T20:36:21.130624Z",
     "shell.execute_reply.started": "2024-07-20T20:36:21.092455Z"
    }
   },
   "outputs": [],
   "source": [
    "def get_dict_from_interfaces(interface):\n",
    "    aux = {}\n",
    "    for i in interface:\n",
    "        aux[i[0]] = i[1]\n",
    "    return aux\n",
    "\n",
    "def encode_dict_to_interface(aux_dict):\n",
    "    interface = [[key, aux_dict[key]] for key in aux_dict]\n",
    "    return interface\n",
    "\n",
    "def encode_val_to_entradas(entra, val_dict):\n",
    "    aux = entra.copy()\n",
    "    for entrada in aux:\n",
    "        name = entrada['name']\n",
    "        tmp = get_dict_from_interfaces(entrada['interfaces'])\n",
    "        tmp['entrada']['value'] = val_dict[name]\n",
    "        encoded_interface = encode_dict_to_interface(tmp)\n",
    "        entrada['interfaces'] = encoded_interface\n",
    "    return aux\n",
    "\n",
    "def get_ids_entradas(entradas):\n",
    "    aux = entradas.copy()\n",
    "    ids = []\n",
    "    for entrada in aux:\n",
    "        tmp = get_dict_from_interfaces(entrada['interfaces'])\n",
    "        ids.append(tmp['entrada']['id'])\n",
    "    return ids\n",
    "\n",
    "def get_ids_from_conn(connections, to_ids):\n",
    "    aux = connections.copy()\n",
    "    entry_dict = {}\n",
    "    ids = []\n",
    "    ids_from = []\n",
    "    pos = []\n",
    "    for i, conn in enumerate(connections):\n",
    "        if conn['to'] in to_ids:\n",
    "            entry_dict[i] = {'id': conn['id'],\n",
    "                             'from': conn['from'],\n",
    "                             'to': conn['to']}\n",
    "    return entry_dict"
   ]
  },
  {
   "cell_type": "code",
   "execution_count": 244,
   "id": "6193af4f-4f01-4554-8035-afd8093c4f8e",
   "metadata": {
    "execution": {
     "iopub.execute_input": "2024-07-20T20:36:21.402794Z",
     "iopub.status.busy": "2024-07-20T20:36:21.402410Z",
     "iopub.status.idle": "2024-07-20T20:36:21.421844Z",
     "shell.execute_reply": "2024-07-20T20:36:21.420993Z",
     "shell.execute_reply.started": "2024-07-20T20:36:21.402766Z"
    }
   },
   "outputs": [],
   "source": [
    "def encode_entradas_to_const(entra, val_dict):\n",
    "    aux = entra['nodes'].copy()\n",
    "    for entrada in aux:\n",
    "        name = entrada['name']\n",
    "        if name in val_dict:\n",
    "            entrada['type'] = 'constante'\n",
    "            entrada['options'] = [['valor', val_dict[name]]]\n",
    "            tmp = get_dict_from_interfaces(entrada['interfaces'])\n",
    "            del tmp['entrada']\n",
    "            encoded_interface = encode_dict_to_interface(tmp)\n",
    "            entrada['interfaces'] = encoded_interface"
   ]
  },
  {
   "cell_type": "code",
   "execution_count": 245,
   "id": "0ad406fb-905e-4d2e-8f3b-21285a66edb0",
   "metadata": {
    "execution": {
     "iopub.execute_input": "2024-07-20T20:36:22.723706Z",
     "iopub.status.busy": "2024-07-20T20:36:22.723136Z",
     "iopub.status.idle": "2024-07-20T20:36:22.754973Z",
     "shell.execute_reply": "2024-07-20T20:36:22.753536Z",
     "shell.execute_reply.started": "2024-07-20T20:36:22.723655Z"
    }
   },
   "outputs": [],
   "source": [
    "def get_to_dict_from_conn(connection):\n",
    "    aux = {i['to']:i for i in connection}\n",
    "    return aux\n",
    "\n",
    "def encode_conn_from_dict(dict_conn):\n",
    "    return list(dict_conn.values())"
   ]
  },
  {
   "cell_type": "code",
   "execution_count": 246,
   "id": "f478a002-865b-4a0e-b2ae-1952553b4187",
   "metadata": {
    "execution": {
     "iopub.execute_input": "2024-07-20T20:36:23.032767Z",
     "iopub.status.busy": "2024-07-20T20:36:23.031993Z",
     "iopub.status.idle": "2024-07-20T20:36:23.070024Z",
     "shell.execute_reply": "2024-07-20T20:36:23.068456Z",
     "shell.execute_reply.started": "2024-07-20T20:36:23.032707Z"
    }
   },
   "outputs": [],
   "source": [
    "def delete_connections(fluxo, to_ids):\n",
    "    tmp = get_to_dict_from_conn(fluxo['connections'])\n",
    "    for i in to_ids:\n",
    "        try:\n",
    "            del tmp[i]\n",
    "        except:\n",
    "            pass\n",
    "    return tmp"
   ]
  },
  {
   "cell_type": "code",
   "execution_count": 247,
   "id": "67a4d5a2-78d9-41a0-8e1f-a962b4e85acc",
   "metadata": {
    "execution": {
     "iopub.execute_input": "2024-07-20T20:36:24.064987Z",
     "iopub.status.busy": "2024-07-20T20:36:24.064554Z",
     "iopub.status.idle": "2024-07-20T20:36:24.097068Z",
     "shell.execute_reply": "2024-07-20T20:36:24.096043Z",
     "shell.execute_reply.started": "2024-07-20T20:36:24.064960Z"
    }
   },
   "outputs": [],
   "source": [
    "def get_fluxo_const(fluxo, val_dict):\n",
    "    saidas = [i for i in fluxo['nodes'] if i['type'] == 'saida']\n",
    "    saida_names = [i['name'] for i in saidas]\n",
    "    entradas = [i for i in fluxo['nodes'] if i['type'] == 'entrada']\n",
    "    entrada_names = [i['name'] for i in entradas]\n",
    "    ids_entradas = get_ids_entradas(entradas)\n",
    "    entry_conn = get_ids_from_conn(fluxo['connections'], ids_entradas)\n",
    "    tmp = delete_connections(fluxo, ids_entradas)\n",
    "    fluxo['connections'] = encode_conn_from_dict(tmp)\n",
    "    encode_entradas_to_const(fluxo, val_dict)"
   ]
  },
  {
   "cell_type": "code",
   "execution_count": 248,
   "id": "bf5ffee5-aab6-4915-ab75-1198c3f2837a",
   "metadata": {
    "execution": {
     "iopub.execute_input": "2024-07-20T20:36:25.324813Z",
     "iopub.status.busy": "2024-07-20T20:36:25.323755Z",
     "iopub.status.idle": "2024-07-20T20:36:25.357428Z",
     "shell.execute_reply": "2024-07-20T20:36:25.356156Z",
     "shell.execute_reply.started": "2024-07-20T20:36:25.324743Z"
    }
   },
   "outputs": [],
   "source": [
    "new_entr = entr.copy()"
   ]
  },
  {
   "cell_type": "code",
   "execution_count": 249,
   "id": "bfecce41-55fe-4776-810f-7790adead3ca",
   "metadata": {
    "execution": {
     "iopub.execute_input": "2024-07-20T20:36:26.559881Z",
     "iopub.status.busy": "2024-07-20T20:36:26.559296Z",
     "iopub.status.idle": "2024-07-20T20:36:26.591534Z",
     "shell.execute_reply": "2024-07-20T20:36:26.590091Z",
     "shell.execute_reply.started": "2024-07-20T20:36:26.559829Z"
    }
   },
   "outputs": [],
   "source": [
    "val_dict = {'entrada-1': 2, 'entrada-2': 3}\n",
    "# tmp = entradas.copy()\n",
    "# new_entr = encode_val_to_entradas(tmp, val_dict)"
   ]
  },
  {
   "cell_type": "code",
   "execution_count": 250,
   "id": "57ee42a8-bb3f-4b84-8b7a-601063c2ae17",
   "metadata": {
    "execution": {
     "iopub.execute_input": "2024-07-20T20:36:27.050863Z",
     "iopub.status.busy": "2024-07-20T20:36:27.049532Z",
     "iopub.status.idle": "2024-07-20T20:36:27.084563Z",
     "shell.execute_reply": "2024-07-20T20:36:27.083007Z",
     "shell.execute_reply.started": "2024-07-20T20:36:27.050799Z"
    }
   },
   "outputs": [],
   "source": [
    "get_fluxo_const(entr, val_dict)"
   ]
  },
  {
   "cell_type": "code",
   "execution_count": 251,
   "id": "f4ca2049-f60c-4060-9255-f42b32137998",
   "metadata": {
    "execution": {
     "iopub.execute_input": "2024-07-20T20:36:28.144579Z",
     "iopub.status.busy": "2024-07-20T20:36:28.144132Z",
     "iopub.status.idle": "2024-07-20T20:36:28.181075Z",
     "shell.execute_reply": "2024-07-20T20:36:28.179559Z",
     "shell.execute_reply.started": "2024-07-20T20:36:28.144545Z"
    }
   },
   "outputs": [
    {
     "name": "stdout",
     "output_type": "stream",
     "text": [
      "Resultado: 5\n"
     ]
    }
   ],
   "source": [
    "get_execution(entr, session.blocks)"
   ]
  },
  {
   "cell_type": "code",
   "execution_count": null,
   "id": "0871126a-3770-4ca4-9ebc-cebef9dd90f1",
   "metadata": {},
   "outputs": [],
   "source": []
  },
  {
   "cell_type": "code",
   "execution_count": 235,
   "id": "96be67af-0540-457c-83f7-4f9c5da25857",
   "metadata": {
    "execution": {
     "iopub.execute_input": "2024-07-20T20:31:08.642661Z",
     "iopub.status.busy": "2024-07-20T20:31:08.641955Z",
     "iopub.status.idle": "2024-07-20T20:31:08.661605Z",
     "shell.execute_reply": "2024-07-20T20:31:08.660347Z",
     "shell.execute_reply.started": "2024-07-20T20:31:08.642599Z"
    }
   },
   "outputs": [],
   "source": [
    "ids_entradas = get_ids_entradas(entradas)\n",
    "entry_conn = get_ids_from_conn(entr['connections'], ids_entradas)"
   ]
  },
  {
   "cell_type": "code",
   "execution_count": 236,
   "id": "241e88a7-e8df-45d3-b473-87e14ff15d48",
   "metadata": {
    "execution": {
     "iopub.execute_input": "2024-07-20T20:31:08.916994Z",
     "iopub.status.busy": "2024-07-20T20:31:08.916570Z",
     "iopub.status.idle": "2024-07-20T20:31:08.935620Z",
     "shell.execute_reply": "2024-07-20T20:31:08.934562Z",
     "shell.execute_reply.started": "2024-07-20T20:31:08.916960Z"
    }
   },
   "outputs": [],
   "source": [
    "tmp = delete_connections(new_entr, ids_entradas)"
   ]
  },
  {
   "cell_type": "code",
   "execution_count": 237,
   "id": "6dd3f5fe-4746-474c-a2b2-bb48349c45ae",
   "metadata": {
    "execution": {
     "iopub.execute_input": "2024-07-20T20:31:09.286151Z",
     "iopub.status.busy": "2024-07-20T20:31:09.285660Z",
     "iopub.status.idle": "2024-07-20T20:31:09.305153Z",
     "shell.execute_reply": "2024-07-20T20:31:09.303715Z",
     "shell.execute_reply.started": "2024-07-20T20:31:09.286117Z"
    }
   },
   "outputs": [],
   "source": [
    "new_entr['connections'] = encode_conn_from_dict(tmp)"
   ]
  },
  {
   "cell_type": "code",
   "execution_count": 238,
   "id": "4a56a64a-5f43-4572-9565-165165903bbb",
   "metadata": {
    "execution": {
     "iopub.execute_input": "2024-07-20T20:31:09.703916Z",
     "iopub.status.busy": "2024-07-20T20:31:09.703112Z",
     "iopub.status.idle": "2024-07-20T20:31:09.738989Z",
     "shell.execute_reply": "2024-07-20T20:31:09.737972Z",
     "shell.execute_reply.started": "2024-07-20T20:31:09.703853Z"
    },
    "scrolled": true
   },
   "outputs": [],
   "source": [
    "encode_entradas_to_const(new_entr, val_dict)"
   ]
  },
  {
   "cell_type": "code",
   "execution_count": 239,
   "id": "29e0d6a5-fdfd-43a5-9f29-99c99edcc709",
   "metadata": {
    "execution": {
     "iopub.execute_input": "2024-07-20T20:31:10.357930Z",
     "iopub.status.busy": "2024-07-20T20:31:10.357135Z",
     "iopub.status.idle": "2024-07-20T20:31:10.378403Z",
     "shell.execute_reply": "2024-07-20T20:31:10.377259Z",
     "shell.execute_reply.started": "2024-07-20T20:31:10.357872Z"
    }
   },
   "outputs": [
    {
     "name": "stdout",
     "output_type": "stream",
     "text": [
      "Resultado: 5\n"
     ]
    }
   ],
   "source": [
    "get_execution(new_entr, session.blocks)"
   ]
  },
  {
   "cell_type": "code",
   "execution_count": null,
   "id": "ead20902-a7a6-4f0e-bb9f-713b7a333efd",
   "metadata": {},
   "outputs": [],
   "source": []
  },
  {
   "cell_type": "code",
   "execution_count": null,
   "id": "72893316-26a6-4801-ab4e-5e0739273867",
   "metadata": {},
   "outputs": [],
   "source": []
  }
 ],
 "metadata": {
  "kernelspec": {
   "display_name": "venv-st",
   "language": "python",
   "name": "venv-st"
  },
  "language_info": {
   "codemirror_mode": {
    "name": "ipython",
    "version": 3
   },
   "file_extension": ".py",
   "mimetype": "text/x-python",
   "name": "python",
   "nbconvert_exporter": "python",
   "pygments_lexer": "ipython3",
   "version": "3.10.12"
  },
  "widgets": {
   "application/vnd.jupyter.widget-state+json": {
    "state": {},
    "version_major": 2,
    "version_minor": 0
   }
  }
 },
 "nbformat": 4,
 "nbformat_minor": 5
}
