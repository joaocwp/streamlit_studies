{
 "cells": [
  {
   "cell_type": "code",
   "execution_count": 15,
   "id": "8bdd8677-5ccf-4031-adca-556d28f252fb",
   "metadata": {
    "execution": {
     "iopub.execute_input": "2024-07-09T14:44:51.774759Z",
     "iopub.status.busy": "2024-07-09T14:44:51.773744Z",
     "iopub.status.idle": "2024-07-09T14:44:51.810179Z",
     "shell.execute_reply": "2024-07-09T14:44:51.809046Z",
     "shell.execute_reply.started": "2024-07-09T14:44:51.774644Z"
    }
   },
   "outputs": [
    {
     "name": "stdout",
     "output_type": "stream",
     "text": [
      "The autoreload extension is already loaded. To reload it, use:\n",
      "  %reload_ext autoreload\n"
     ]
    }
   ],
   "source": [
    "%load_ext autoreload\n",
    "%autoreload 2"
   ]
  },
  {
   "cell_type": "code",
   "execution_count": 16,
   "id": "cdc19339-46c3-4db4-a468-f707047b56ac",
   "metadata": {
    "execution": {
     "iopub.execute_input": "2024-07-09T14:44:52.048590Z",
     "iopub.status.busy": "2024-07-09T14:44:52.048218Z",
     "iopub.status.idle": "2024-07-09T14:44:52.067855Z",
     "shell.execute_reply": "2024-07-09T14:44:52.066657Z",
     "shell.execute_reply.started": "2024-07-09T14:44:52.048553Z"
    }
   },
   "outputs": [],
   "source": [
    "from Barfi import barfi_schemas, st_barfi\n",
    "import streamlit as st\n",
    "from streamlit import session_state as session\n",
    "if 'dados' not in session:\n",
    "    session.dados = 0\n",
    "if 'saida' not in session:\n",
    "    session.saida = None\n",
    "import blocks\n",
    "import joblib"
   ]
  },
  {
   "cell_type": "code",
   "execution_count": 19,
   "id": "b27c62c6-e607-4b4b-b18e-f11114d9ccb1",
   "metadata": {
    "execution": {
     "iopub.execute_input": "2024-07-09T14:45:20.444620Z",
     "iopub.status.busy": "2024-07-09T14:45:20.443157Z",
     "iopub.status.idle": "2024-07-09T14:45:20.481445Z",
     "shell.execute_reply": "2024-07-09T14:45:20.479844Z",
     "shell.execute_reply.started": "2024-07-09T14:45:20.444547Z"
    }
   },
   "outputs": [
    {
     "data": {
      "text/plain": [
       "['teste', 'teste4']"
      ]
     },
     "execution_count": 19,
     "metadata": {},
     "output_type": "execute_result"
    }
   ],
   "source": [
    "schemas = barfi_schemas()\n",
    "schemas"
   ]
  },
  {
   "cell_type": "code",
   "execution_count": 20,
   "id": "0ec26e28-b731-41f1-84bb-7035664b6c65",
   "metadata": {
    "execution": {
     "iopub.execute_input": "2024-07-09T14:45:25.193960Z",
     "iopub.status.busy": "2024-07-09T14:45:25.192828Z",
     "iopub.status.idle": "2024-07-09T14:45:25.228376Z",
     "shell.execute_reply": "2024-07-09T14:45:25.226239Z",
     "shell.execute_reply.started": "2024-07-09T14:45:25.193878Z"
    }
   },
   "outputs": [
    {
     "name": "stdout",
     "output_type": "stream",
     "text": [
      "========================Setup==========================\n",
      "starting blocks\n",
      "loading schema\n",
      "running compute engine outside client\n",
      "ce state: {'nodes': [{'type': 'constante', 'id': 'node_17205362694800', 'name': 'constante-1', 'options': [['valor', 4]], 'state': {}, 'interfaces': [['saida', {'id': 'ni_17205362694801', 'value': None}]], 'position': {'x': 23.615555172426, 'y': 173.6145673483444}, 'width': 200, 'twoColumn': False, 'customClasses': ''}, {'type': 'saida', 'id': 'node_17205362713032', 'name': 'saida-1', 'options': [], 'state': {}, 'interfaces': [['saida', {'id': 'ni_17205362713043', 'value': None}]], 'position': {'x': 311.5872730407424, 'y': 172.41468519055974}, 'width': 200, 'twoColumn': False, 'customClasses': ''}], 'connections': [{'id': '17205362733416', 'from': 'ni_17205362694801', 'to': 'ni_17205362713043'}], 'panning': {'x': 36.37855271680658, 'y': -60.82564451658715}, 'scaling': 0.8334151762422278}\n",
      "4\n"
     ]
    }
   ],
   "source": [
    "print(\"========================Setup==========================\")\n",
    "blocks.init()\n",
    "schemas = barfi_schemas()\n",
    "barfi_schema_name = 'teste4' #st.selectbox('Select a saved schema to load:', schemas)\n",
    "barfi = st_barfi(compute_engine=True, key='barfi',\n",
    "                base_blocks=session.blocks,\n",
    "                load_schema=barfi_schema_name,\n",
    "                run=True)\n",
    "if 'saida' in session:\n",
    "    print(session.saida)"
   ]
  },
  {
   "cell_type": "code",
   "execution_count": 10,
   "id": "3224e16c-4201-49a0-aac9-2f7d7c1d519b",
   "metadata": {
    "execution": {
     "iopub.execute_input": "2024-07-09T14:11:39.865861Z",
     "iopub.status.busy": "2024-07-09T14:11:39.864848Z",
     "iopub.status.idle": "2024-07-09T14:11:39.877765Z",
     "shell.execute_reply": "2024-07-09T14:11:39.876043Z",
     "shell.execute_reply.started": "2024-07-09T14:11:39.865766Z"
    }
   },
   "outputs": [
    {
     "data": {
      "text/plain": [
       "'teste'"
      ]
     },
     "execution_count": 10,
     "metadata": {},
     "output_type": "execute_result"
    }
   ],
   "source": [
    "barfi_schema_name"
   ]
  },
  {
   "cell_type": "code",
   "execution_count": null,
   "id": "56c3535f-176e-4e77-baba-96584de1d15e",
   "metadata": {},
   "outputs": [],
   "source": []
  },
  {
   "cell_type": "code",
   "execution_count": null,
   "id": "7793d527-6d69-4361-999d-f8c4fe15b365",
   "metadata": {},
   "outputs": [],
   "source": []
  }
 ],
 "metadata": {
  "kernelspec": {
   "display_name": "venv-st",
   "language": "python",
   "name": "venv-st"
  },
  "language_info": {
   "codemirror_mode": {
    "name": "ipython",
    "version": 3
   },
   "file_extension": ".py",
   "mimetype": "text/x-python",
   "name": "python",
   "nbconvert_exporter": "python",
   "pygments_lexer": "ipython3",
   "version": "3.10.12"
  },
  "widgets": {
   "application/vnd.jupyter.widget-state+json": {
    "state": {},
    "version_major": 2,
    "version_minor": 0
   }
  }
 },
 "nbformat": 4,
 "nbformat_minor": 5
}
